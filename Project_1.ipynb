{
  "nbformat": 4,
  "nbformat_minor": 0,
  "metadata": {
    "colab": {
      "provenance": [],
      "authorship_tag": "ABX9TyPK2ARkYA3D263ywVsbUaCC",
      "include_colab_link": true
    },
    "kernelspec": {
      "name": "python3",
      "display_name": "Python 3"
    },
    "language_info": {
      "name": "python"
    }
  },
  "cells": [
    {
      "cell_type": "markdown",
      "metadata": {
        "id": "view-in-github",
        "colab_type": "text"
      },
      "source": [
        "<a href=\"https://colab.research.google.com/github/Meherangel23/Python/blob/main/Project_1.ipynb\" target=\"_parent\"><img src=\"https://colab.research.google.com/assets/colab-badge.svg\" alt=\"Open In Colab\"/></a>"
      ]
    },
    {
      "cell_type": "code",
      "execution_count": null,
      "metadata": {
        "id": "VIM3sN0QmuJ6"
      },
      "outputs": [],
      "source": [
        "# display function\n",
        "def display(x,y,z):\n",
        "  print(x)\n",
        "  print(y)\n",
        "  print(z)"
      ]
    },
    {
      "cell_type": "code",
      "source": [
        "a = [' ',' ',' ']\n",
        "b = [' ',' ',' ']\n",
        "c = [' ',' ',' ']\n",
        "display(a,b,c)"
      ],
      "metadata": {
        "colab": {
          "base_uri": "https://localhost:8080/"
        },
        "id": "j_abxuLinWJJ",
        "outputId": "2a322ccb-d8b1-4227-bf24-33e9b73c6dd9"
      },
      "execution_count": null,
      "outputs": [
        {
          "output_type": "stream",
          "name": "stdout",
          "text": [
            "[' ', ' ', ' ']\n",
            "[' ', ' ', ' ']\n",
            "[' ', ' ', ' ']\n"
          ]
        }
      ]
    },
    {
      "cell_type": "code",
      "source": [
        "a[0]= 'x'\n",
        "b[1]= 'x'\n",
        "c[2]= 'x'"
      ],
      "metadata": {
        "id": "1GZtQAPsnwzQ"
      },
      "execution_count": null,
      "outputs": []
    },
    {
      "cell_type": "code",
      "source": [
        "display(a,b,c)"
      ],
      "metadata": {
        "colab": {
          "base_uri": "https://localhost:8080/"
        },
        "id": "7xlp1hF7n07d",
        "outputId": "f5172c25-85cf-498e-eec0-b67fe737bff5"
      },
      "execution_count": null,
      "outputs": [
        {
          "output_type": "stream",
          "name": "stdout",
          "text": [
            "['x', ' ', ' ']\n",
            "[' ', 'x', ' ']\n",
            "[' ', ' ', 'x']\n"
          ]
        }
      ]
    },
    {
      "cell_type": "code",
      "source": [
        "# accepting user input\n",
        "p = input(\"Choose a position: \")\n",
        "# convert input value from string to integer\n",
        "# the input must be a number and not a word\n",
        "position = int(p)"
      ],
      "metadata": {
        "colab": {
          "base_uri": "https://localhost:8080/"
        },
        "id": "UpVlFEfpoIaK",
        "outputId": "75194db4-19ce-499c-de0b-90b25e868fec"
      },
      "execution_count": null,
      "outputs": [
        {
          "name": "stdout",
          "output_type": "stream",
          "text": [
            "Choose a position: 2\n"
          ]
        }
      ]
    },
    {
      "cell_type": "code",
      "source": [
        "type(position)\n",
        "type(p)"
      ],
      "metadata": {
        "colab": {
          "base_uri": "https://localhost:8080/"
        },
        "id": "Hl9oVBIyoIqQ",
        "outputId": "ee626735-29ce-4cf2-94e5-d54ebc0019e4"
      },
      "execution_count": null,
      "outputs": [
        {
          "output_type": "execute_result",
          "data": {
            "text/plain": [
              "str"
            ]
          },
          "metadata": {},
          "execution_count": 5
        }
      ]
    },
    {
      "cell_type": "code",
      "source": [
        "c[position]"
      ],
      "metadata": {
        "colab": {
          "base_uri": "https://localhost:8080/",
          "height": 36
        },
        "id": "h1dnpS6iqPGz",
        "outputId": "f7e0e9e5-7e91-4896-9d4d-ba0fdd22b4b2"
      },
      "execution_count": null,
      "outputs": [
        {
          "output_type": "execute_result",
          "data": {
            "text/plain": [
              "' '"
            ],
            "application/vnd.google.colaboratory.intrinsic+json": {
              "type": "string"
            }
          },
          "metadata": {},
          "execution_count": 6
        }
      ]
    },
    {
      "cell_type": "code",
      "source": [
        "# .isdigit only works for strings not for int or float\n",
        "x = 'paint'\n",
        "x.isdigit()"
      ],
      "metadata": {
        "id": "6lfJI2qXw4G7",
        "colab": {
          "base_uri": "https://localhost:8080/"
        },
        "outputId": "ab9ad4e5-aa2e-447e-c735-932db5592b98"
      },
      "execution_count": null,
      "outputs": [
        {
          "output_type": "execute_result",
          "data": {
            "text/plain": [
              "False"
            ]
          },
          "metadata": {},
          "execution_count": 7
        }
      ]
    },
    {
      "cell_type": "code",
      "source": [
        "y = '100'\n",
        "y.isdigit()"
      ],
      "metadata": {
        "colab": {
          "base_uri": "https://localhost:8080/"
        },
        "id": "UaKSD5Ouw_gw",
        "outputId": "5ca687bc-5df8-499b-87fc-ab28a657b7df"
      },
      "execution_count": null,
      "outputs": [
        {
          "output_type": "execute_result",
          "data": {
            "text/plain": [
              "True"
            ]
          },
          "metadata": {},
          "execution_count": 8
        }
      ]
    },
    {
      "cell_type": "code",
      "source": [
        "# validating user input\n",
        "def new_choice():\n",
        "  pick = 'hello'\n",
        "  while pick.isdigit() == False:\n",
        "    pick = input('Please enter a number: ')\n",
        "    if pick.isdigit() == False:\n",
        "      print('Please enter a number.')\n",
        "  return int(pick)"
      ],
      "metadata": {
        "id": "XydypwEnqtxE"
      },
      "execution_count": null,
      "outputs": []
    },
    {
      "cell_type": "code",
      "source": [
        "new_choice()"
      ],
      "metadata": {
        "colab": {
          "base_uri": "https://localhost:8080/"
        },
        "id": "3ngbmOruwC38",
        "outputId": "6b073f35-06ee-48b5-fab0-538b2383d74d"
      },
      "execution_count": null,
      "outputs": [
        {
          "name": "stdout",
          "output_type": "stream",
          "text": [
            "Please enter a number: 3\n"
          ]
        },
        {
          "output_type": "execute_result",
          "data": {
            "text/plain": [
              "3"
            ]
          },
          "metadata": {},
          "execution_count": 10
        }
      ]
    },
    {
      "cell_type": "code",
      "source": [
        "def new_choice():\n",
        "  pick = 'hello'\n",
        "# range of numbers\n",
        "  use_range = range(0,10)\n",
        "  check_range = False\n",
        "# coditions for choice\n",
        "  while pick.isdigit() == False and check_range == False :\n",
        "    pick = input(\"Please enter a value: \")\n",
        "# checking of numbers\n",
        "    if pick.isdigit() == False:\n",
        "      print('Please enter a number!')\n",
        "# if it is within range\n",
        "      if pick.isdigit() == True:\n",
        "        if int(pick) in use_range:\n",
        "          check_range = True\n",
        "        else:\n",
        "          print('You are out of range.')\n",
        "          check_range = False\n",
        "  return int(pick)\n"
      ],
      "metadata": {
        "id": "R-t4bbKbxYGu"
      },
      "execution_count": null,
      "outputs": []
    },
    {
      "cell_type": "code",
      "source": [
        "new_choice()\n"
      ],
      "metadata": {
        "colab": {
          "base_uri": "https://localhost:8080/"
        },
        "id": "O_e7UhJNL0uW",
        "outputId": "91cc9ad5-e4ee-4c97-c309-741467d9ffe7"
      },
      "execution_count": null,
      "outputs": [
        {
          "name": "stdout",
          "output_type": "stream",
          "text": [
            "Please enter a value: 3\n"
          ]
        },
        {
          "output_type": "execute_result",
          "data": {
            "text/plain": [
              "3"
            ]
          },
          "metadata": {},
          "execution_count": 12
        }
      ]
    },
    {
      "cell_type": "code",
      "source": [
        "# GAME ONE"
      ],
      "metadata": {
        "id": "G7512ziUZA0j"
      },
      "execution_count": null,
      "outputs": []
    },
    {
      "cell_type": "code",
      "source": [
        "num_list = ['0','1','2']\n",
        "def display(num_list):\n",
        "  print('The choice list is:')\n",
        "  print(num_list)"
      ],
      "metadata": {
        "id": "MziQsvvfP51Z"
      },
      "execution_count": null,
      "outputs": []
    },
    {
      "cell_type": "code",
      "source": [
        "display(num_list)"
      ],
      "metadata": {
        "colab": {
          "base_uri": "https://localhost:8080/"
        },
        "id": "NJi9X22-QnT6",
        "outputId": "3865be5f-a20e-44fe-99c5-b7f71baee2af"
      },
      "execution_count": null,
      "outputs": [
        {
          "output_type": "stream",
          "name": "stdout",
          "text": [
            "The choice list is:\n",
            "['0', '1', '2']\n"
          ]
        }
      ]
    },
    {
      "cell_type": "code",
      "source": [
        "def input_val():\n",
        "  val = 'Incorrect'\n",
        "  while val not in ['0','1','2','3']:\n",
        "    val = input('please enter a value: ')\n",
        "    if val not in ['0','1','2','3']:\n",
        "      print('Please enter a valid input')\n",
        "  return int(val)"
      ],
      "metadata": {
        "id": "XCLibl_tQt6F"
      },
      "execution_count": null,
      "outputs": []
    },
    {
      "cell_type": "code",
      "source": [
        "input_val()"
      ],
      "metadata": {
        "colab": {
          "base_uri": "https://localhost:8080/"
        },
        "id": "xIzdAnf_RvPs",
        "outputId": "920cb21d-f63b-480e-8337-4907a7b4f6ec"
      },
      "execution_count": null,
      "outputs": [
        {
          "name": "stdout",
          "output_type": "stream",
          "text": [
            "please enter a value: 5\n",
            "Please enter a valid input\n",
            "please enter a value: 3\n"
          ]
        },
        {
          "output_type": "execute_result",
          "data": {
            "text/plain": [
              "3"
            ]
          },
          "metadata": {},
          "execution_count": 16
        }
      ]
    },
    {
      "cell_type": "code",
      "source": [
        "def change(num_list,position):\n",
        "  replace = input('Enter a string to replace: ')\n",
        "  num_list[position] = replace\n",
        "  return num_list"
      ],
      "metadata": {
        "id": "gkOJA2mDR5yk"
      },
      "execution_count": null,
      "outputs": []
    },
    {
      "cell_type": "code",
      "source": [
        "change(num_list,2)"
      ],
      "metadata": {
        "colab": {
          "base_uri": "https://localhost:8080/"
        },
        "id": "inq-iFG5ToXu",
        "outputId": "605d849b-2e1b-4da8-ecb0-71f4ef479257"
      },
      "execution_count": null,
      "outputs": [
        {
          "name": "stdout",
          "output_type": "stream",
          "text": [
            "Enter a string to replace: Even\n"
          ]
        },
        {
          "output_type": "execute_result",
          "data": {
            "text/plain": [
              "['0', '1', 'Even']"
            ]
          },
          "metadata": {},
          "execution_count": 18
        }
      ]
    },
    {
      "cell_type": "code",
      "source": [
        "def continue_game():\n",
        "  choice = 'Wrong'\n",
        "  while choice not in ['Yes','No']:\n",
        "    choice = input('Do you wish to keep playing? Yes or No: ')\n",
        "    if choice not in ['Yes','No']:\n",
        "      print ('Please choose Yes or No')\n",
        "  if choice == 'Yes':\n",
        "      return True\n",
        "  else :\n",
        "      return False"
      ],
      "metadata": {
        "id": "GWs0fOmGT0Uz"
      },
      "execution_count": null,
      "outputs": []
    },
    {
      "cell_type": "code",
      "source": [
        "continue_game()"
      ],
      "metadata": {
        "colab": {
          "base_uri": "https://localhost:8080/"
        },
        "id": "ovWwGLzPWLs2",
        "outputId": "4914c887-6962-4afe-d35e-cd835933b4b0"
      },
      "execution_count": null,
      "outputs": [
        {
          "name": "stdout",
          "output_type": "stream",
          "text": [
            "Do you wish to keep playing? Yes or No: No\n"
          ]
        },
        {
          "output_type": "execute_result",
          "data": {
            "text/plain": [
              "False"
            ]
          },
          "metadata": {},
          "execution_count": 20
        }
      ]
    },
    {
      "cell_type": "code",
      "source": [
        "keep_playing = True\n",
        "num_list = [0,1,2,3]\n",
        "while keep_playing :\n",
        "  display(num_list)\n",
        "  position = input_val()\n",
        "  num_list = change(num_list, position)\n",
        "  display(num_list)\n",
        "  keep_playing = continue_game()"
      ],
      "metadata": {
        "colab": {
          "base_uri": "https://localhost:8080/"
        },
        "id": "rr8Zn7XnWeT2",
        "outputId": "d7369c7d-7026-439f-8a09-f88f9efebf5d"
      },
      "execution_count": null,
      "outputs": [
        {
          "name": "stdout",
          "output_type": "stream",
          "text": [
            "The choice list is:\n",
            "[0, 1, 2, 3]\n",
            "please enter a value: 3\n",
            "Enter a string to replace: Joker\n",
            "The choice list is:\n",
            "[0, 1, 2, 'Joker']\n",
            "Do you wish to keep playing? Yes or No: No\n"
          ]
        }
      ]
    }
  ]
}
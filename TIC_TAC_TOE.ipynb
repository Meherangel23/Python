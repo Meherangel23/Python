{
  "nbformat": 4,
  "nbformat_minor": 0,
  "metadata": {
    "colab": {
      "provenance": [],
      "authorship_tag": "ABX9TyOS3wokcaGQ+2d2cmrhfbN3",
      "include_colab_link": true
    },
    "kernelspec": {
      "name": "python3",
      "display_name": "Python 3"
    },
    "language_info": {
      "name": "python"
    }
  },
  "cells": [
    {
      "cell_type": "markdown",
      "metadata": {
        "id": "view-in-github",
        "colab_type": "text"
      },
      "source": [
        "<a href=\"https://colab.research.google.com/github/Meherangel23/Python/blob/main/TIC_TAC_TOE.ipynb\" target=\"_parent\"><img src=\"https://colab.research.google.com/assets/colab-badge.svg\" alt=\"Open In Colab\"/></a>"
      ]
    },
    {
      "cell_type": "code",
      "execution_count": 1,
      "metadata": {
        "id": "Z8dL143md0y9"
      },
      "outputs": [],
      "source": [
        "from IPython.display import clear_output\n",
        "def display(board):\n",
        "  # clear_output is an imported func that clears the previous history\n",
        "  clear_output()\n",
        "  print(board[1]+'|'+board[2]+'|'+board[3])\n",
        "  print('=====')\n",
        "  print(board[4]+'|'+board[5]+'|'+board[6])\n",
        "  print('=====')\n",
        "  print(board[7]+'|'+board[8]+'|'+board[9])"
      ]
    },
    {
      "cell_type": "code",
      "source": [
        "board_1 = [' ']*10\n",
        "display(board_1)"
      ],
      "metadata": {
        "colab": {
          "base_uri": "https://localhost:8080/"
        },
        "id": "5XFys00textT",
        "outputId": "5997e3af-0fe8-4da6-8eeb-fb90da7ee30e"
      },
      "execution_count": 2,
      "outputs": [
        {
          "output_type": "stream",
          "name": "stdout",
          "text": [
            " | | \n",
            "=====\n",
            " | | \n",
            "=====\n",
            " | | \n"
          ]
        }
      ]
    },
    {
      "cell_type": "code",
      "source": [
        "def character():\n",
        "  mark = ''\n",
        "  while not (mark == 'X' or mark == 'O'):\n",
        "    mark = input('Please select X or O: ').upper()\n",
        "    break\n",
        "  if mark == 'X':\n",
        "    return ('X','O')\n",
        "  else :\n",
        "    return ('O','X')"
      ],
      "metadata": {
        "id": "Mtb5675AK2YZ"
      },
      "execution_count": 3,
      "outputs": []
    },
    {
      "cell_type": "code",
      "source": [
        "character()"
      ],
      "metadata": {
        "colab": {
          "base_uri": "https://localhost:8080/"
        },
        "id": "VWtcPPdtj4Ek",
        "outputId": "179431ec-49ce-4b2c-8f2e-ef49703c049a"
      },
      "execution_count": 4,
      "outputs": [
        {
          "name": "stdout",
          "output_type": "stream",
          "text": [
            "Please select X or O: X\n"
          ]
        },
        {
          "output_type": "execute_result",
          "data": {
            "text/plain": [
              "('X', 'O')"
            ]
          },
          "metadata": {},
          "execution_count": 4
        }
      ]
    },
    {
      "cell_type": "code",
      "source": [
        "player_1, player_2 = character()"
      ],
      "metadata": {
        "id": "r-skyM8Mk49c",
        "colab": {
          "base_uri": "https://localhost:8080/"
        },
        "outputId": "f4235ec0-1376-4555-ac55-2684a2c695dc"
      },
      "execution_count": 5,
      "outputs": [
        {
          "name": "stdout",
          "output_type": "stream",
          "text": [
            "Please select X or O: O\n"
          ]
        }
      ]
    },
    {
      "cell_type": "code",
      "source": [
        "print(player_2)"
      ],
      "metadata": {
        "colab": {
          "base_uri": "https://localhost:8080/"
        },
        "id": "kIttGmW3l6sy",
        "outputId": "ca8f7fb4-4566-4dbd-b351-9ea709deace1"
      },
      "execution_count": 6,
      "outputs": [
        {
          "output_type": "stream",
          "name": "stdout",
          "text": [
            "X\n"
          ]
        }
      ]
    },
    {
      "cell_type": "code",
      "source": [
        "def placement(board,mark,position):\n",
        "  board[position]= mark"
      ],
      "metadata": {
        "id": "HaRdLu9WmCks"
      },
      "execution_count": 7,
      "outputs": []
    },
    {
      "cell_type": "code",
      "source": [
        "board_1 = [' ']*10\n",
        "placement(board_1,'x',5)\n",
        "display(board_1)"
      ],
      "metadata": {
        "colab": {
          "base_uri": "https://localhost:8080/"
        },
        "id": "IC3gajikndOu",
        "outputId": "f23ff250-d569-4fab-9bd8-16be8d63cebc"
      },
      "execution_count": 8,
      "outputs": [
        {
          "output_type": "stream",
          "name": "stdout",
          "text": [
            " | | \n",
            "=====\n",
            " |x| \n",
            "=====\n",
            " | | \n"
          ]
        }
      ]
    },
    {
      "cell_type": "code",
      "source": [
        "def winner(board,mark):\n",
        "  return (board[1]==mark and board[2]==mark and board[3]==mark) or \\\n",
        "  (board[4]==mark and board[5]==mark and board[6]==mark) or \\\n",
        "  (board[7]==mark and board[8]==mark and board[9]==mark) or \\\n",
        "  (board[1]==mark and board[4]==mark and board[7]==mark) or \\\n",
        "  (board[2]==mark and board[5]==mark and board[8]==mark) or \\\n",
        "  (board[3]==mark and board[6]==mark and board[9]==mark) or \\\n",
        "  (board[1]==mark and board[5]==mark and board[9]==mark) or \\\n",
        "  (board[3]==mark and board[5]==mark and board[7]==mark)"
      ],
      "metadata": {
        "id": "Zxx9q-wcuBci"
      },
      "execution_count": 9,
      "outputs": []
    },
    {
      "cell_type": "code",
      "source": [
        "winner(board_1,'X')"
      ],
      "metadata": {
        "colab": {
          "base_uri": "https://localhost:8080/"
        },
        "id": "k7GMIJ2lwWDp",
        "outputId": "60d90ae9-f92f-44df-e79e-6b90fccf5183"
      },
      "execution_count": 10,
      "outputs": [
        {
          "output_type": "execute_result",
          "data": {
            "text/plain": [
              "False"
            ]
          },
          "metadata": {},
          "execution_count": 10
        }
      ]
    },
    {
      "cell_type": "code",
      "source": [
        "board_2 = ['a','X','X','X','O','O','X','X','O','X']\n",
        "display(board_2)\n",
        "winner(board_2,'X')"
      ],
      "metadata": {
        "colab": {
          "base_uri": "https://localhost:8080/"
        },
        "id": "Gx1566MuxxWd",
        "outputId": "138f3e4e-b137-4dd9-8cce-136b1bf60a9a"
      },
      "execution_count": 11,
      "outputs": [
        {
          "output_type": "stream",
          "name": "stdout",
          "text": [
            "X|X|X\n",
            "=====\n",
            "O|O|X\n",
            "=====\n",
            "X|O|X\n"
          ]
        },
        {
          "output_type": "execute_result",
          "data": {
            "text/plain": [
              "True"
            ]
          },
          "metadata": {},
          "execution_count": 11
        }
      ]
    },
    {
      "cell_type": "code",
      "source": [
        "import random\n",
        "def player():\n",
        "  first = random.randint(0,1)\n",
        "  if first == 0:\n",
        "    return 'Player_1'\n",
        "  else :\n",
        "    return 'Player_2'"
      ],
      "metadata": {
        "id": "Ich3u05lyV9Y"
      },
      "execution_count": 12,
      "outputs": []
    },
    {
      "cell_type": "code",
      "source": [
        "player()"
      ],
      "metadata": {
        "colab": {
          "base_uri": "https://localhost:8080/",
          "height": 36
        },
        "id": "0f9fMvd9I55l",
        "outputId": "8a126684-5463-4adc-b4b6-b4853bd25ea2"
      },
      "execution_count": 13,
      "outputs": [
        {
          "output_type": "execute_result",
          "data": {
            "text/plain": [
              "'Player_1'"
            ],
            "application/vnd.google.colaboratory.intrinsic+json": {
              "type": "string"
            }
          },
          "metadata": {},
          "execution_count": 13
        }
      ]
    },
    {
      "cell_type": "code",
      "source": [
        "def empty_spot(board,position):\n",
        "  return board[position] == ' '"
      ],
      "metadata": {
        "id": "rKlLZ4TL2Spj"
      },
      "execution_count": 14,
      "outputs": []
    },
    {
      "cell_type": "code",
      "source": [
        "board_1 = ['x','O','O','X','O','O','X','X','']\n",
        "empty_spot(board_1,8)"
      ],
      "metadata": {
        "colab": {
          "base_uri": "https://localhost:8080/"
        },
        "id": "Ydn2uONuGzqj",
        "outputId": "abfcfa39-5813-4935-c6ac-67969cd0c493"
      },
      "execution_count": 15,
      "outputs": [
        {
          "output_type": "execute_result",
          "data": {
            "text/plain": [
              "False"
            ]
          },
          "metadata": {},
          "execution_count": 15
        }
      ]
    },
    {
      "cell_type": "code",
      "source": [
        "def filled(board):\n",
        "  for x in range(1,10):\n",
        "    if empty_spot(board,x):\n",
        "      return False # for empty place in board\n",
        "  return True # for a completely filled board"
      ],
      "metadata": {
        "id": "2WOeQ7kZ2xWg"
      },
      "execution_count": 16,
      "outputs": []
    },
    {
      "cell_type": "code",
      "source": [
        "board_1 = ['X','O','X','O','X','O','X','O',' ']\n",
        "filled(board_1)"
      ],
      "metadata": {
        "colab": {
          "base_uri": "https://localhost:8080/"
        },
        "id": "zk5y2RdVGhgN",
        "outputId": "e8b793c1-46ba-4b72-d442-3b4b14e2397c"
      },
      "execution_count": 17,
      "outputs": [
        {
          "output_type": "execute_result",
          "data": {
            "text/plain": [
              "False"
            ]
          },
          "metadata": {},
          "execution_count": 17
        }
      ]
    },
    {
      "cell_type": "code",
      "source": [
        "def choose_place(board):\n",
        "  position = 0\n",
        "  while position not in [1,2,3,4,5,6,7,8,9] :\n",
        "\n",
        "    position = int(input('choose a place from 1-9: '))\n",
        "  return position"
      ],
      "metadata": {
        "id": "AC8-kQj23r5q"
      },
      "execution_count": 18,
      "outputs": []
    },
    {
      "cell_type": "code",
      "source": [
        "choose_place(board_1)"
      ],
      "metadata": {
        "colab": {
          "base_uri": "https://localhost:8080/"
        },
        "id": "fd4i8ax4GSbz",
        "outputId": "41cb382d-17cb-47a7-eb15-14ba20f8083f"
      },
      "execution_count": 19,
      "outputs": [
        {
          "name": "stdout",
          "output_type": "stream",
          "text": [
            "choose a place from 1-9: 8\n"
          ]
        },
        {
          "output_type": "execute_result",
          "data": {
            "text/plain": [
              "8"
            ]
          },
          "metadata": {},
          "execution_count": 19
        }
      ]
    },
    {
      "cell_type": "code",
      "source": [
        "def play_again():\n",
        "  play = input('Play again? select Yes or No ')\n",
        "  return play == 'Yes'"
      ],
      "metadata": {
        "id": "41Gm693M4un6"
      },
      "execution_count": 20,
      "outputs": []
    },
    {
      "cell_type": "code",
      "source": [
        "play_again()"
      ],
      "metadata": {
        "colab": {
          "base_uri": "https://localhost:8080/"
        },
        "id": "NTNf9jGwGa-Z",
        "outputId": "0a9311a9-cecc-46e6-b15f-d99f8687fbdc"
      },
      "execution_count": 21,
      "outputs": [
        {
          "name": "stdout",
          "output_type": "stream",
          "text": [
            "Play again? select Yes or No No\n"
          ]
        },
        {
          "output_type": "execute_result",
          "data": {
            "text/plain": [
              "False"
            ]
          },
          "metadata": {},
          "execution_count": 21
        }
      ]
    },
    {
      "cell_type": "code",
      "source": [
        "'''\n",
        "list of functions :\n",
        "display_board\n",
        "character\n",
        "placement\n",
        "winner\n",
        "player\n",
        "empty_spot\n",
        "filled\n",
        "choose_place\n",
        "play_again\n",
        "'''"
      ],
      "metadata": {
        "id": "Lpxn8wLS5uoj",
        "colab": {
          "base_uri": "https://localhost:8080/",
          "height": 36
        },
        "outputId": "b5ae4711-ee24-449f-aad2-bd8f1cb6c741"
      },
      "execution_count": 22,
      "outputs": [
        {
          "output_type": "execute_result",
          "data": {
            "text/plain": [
              "'\\nlist of functions :\\ndisplay_board\\ncharacter\\nplacement\\nwinner\\nplayer\\nempty_spot\\nfilled\\nchoose_place\\nplay_again\\n'"
            ],
            "application/vnd.google.colaboratory.intrinsic+json": {
              "type": "string"
            }
          },
          "metadata": {},
          "execution_count": 22
        }
      ]
    },
    {
      "cell_type": "code",
      "source": [
        "print('Start game')\n",
        "while True:\n",
        "  game_board = [' ']*10\n",
        "  # doubt below\n",
        "  player_1, player_2 = character()\n",
        "  begin = player()\n",
        "  print(begin+' will play first')\n",
        "  Start_Game = input('Start Game: yes or no: ')\n",
        "  if Start_Game == 'yes':\n",
        "    begin_playing = True\n",
        "  else:\n",
        "    begin_playing = True\n",
        "\n",
        "  while begin_playing :\n",
        "    if begin == 'Player_1':\n",
        "      display(game_board)\n",
        "      place = choose_place(game_board)\n",
        "      placement(game_board,player_1,place)\n",
        "      if winner(game_board,player_1):\n",
        "        display(game_board)\n",
        "        print('WINNER: Player_1')\n",
        "        begin_playing = False\n",
        "      else:\n",
        "        if filled(game_board):\n",
        "          display(game_board)\n",
        "          print('No WINNER!! It is a TIE')\n",
        "          break\n",
        "        else:\n",
        "          begin = 'Player_2'\n",
        "    else:\n",
        "      display(game_board)\n",
        "      place = choose_place(game_board)\n",
        "      placement(game_board,player_2,place)\n",
        "      if winner(game_board,player_2):\n",
        "        display(game_board)\n",
        "        print('WINNER: Player_2')\n",
        "        begin_playing = False\n",
        "      else:\n",
        "        if filled(game_board):\n",
        "          display(game_board)\n",
        "          print('No WINNER!! It is a Tie')\n",
        "          break\n",
        "        else:\n",
        "          begin = 'Player_1'\n",
        "  if not play_again():\n",
        "    break"
      ],
      "metadata": {
        "colab": {
          "base_uri": "https://localhost:8080/"
        },
        "id": "HQHh2QGv_Rtb",
        "outputId": "bf95b28b-7c09-4b49-cf31-ef2d3562afbc"
      },
      "execution_count": 29,
      "outputs": [
        {
          "name": "stdout",
          "output_type": "stream",
          "text": [
            "X|O|X\n",
            "=====\n",
            "X|O| \n",
            "=====\n",
            "X| |O\n",
            "WINNER: Player_1\n",
            "Play again? select Yes or No No\n"
          ]
        }
      ]
    }
  ]
}
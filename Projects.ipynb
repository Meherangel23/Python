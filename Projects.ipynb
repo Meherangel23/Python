{
  "nbformat": 4,
  "nbformat_minor": 0,
  "metadata": {
    "colab": {
      "provenance": [],
      "authorship_tag": "ABX9TyNvE7gltL6hGEt1ZicftQWJ",
      "include_colab_link": true
    },
    "kernelspec": {
      "name": "python3",
      "display_name": "Python 3"
    },
    "language_info": {
      "name": "python"
    }
  },
  "cells": [
    {
      "cell_type": "markdown",
      "metadata": {
        "id": "view-in-github",
        "colab_type": "text"
      },
      "source": [
        "<a href=\"https://colab.research.google.com/github/Meherangel23/Python/blob/main/Projects.ipynb\" target=\"_parent\"><img src=\"https://colab.research.google.com/assets/colab-badge.svg\" alt=\"Open In Colab\"/></a>"
      ]
    },
    {
      "cell_type": "code",
      "source": [
        "# count the number of times a character is repeated in a string\n",
        "x = input('enter text: ')\n",
        "y = x.count(input('enter character: '))\n",
        "print(y)"
      ],
      "metadata": {
        "id": "4wLkEypWYO40",
        "colab": {
          "base_uri": "https://localhost:8080/"
        },
        "outputId": "95cc346f-b260-44c6-8156-14f57eb30dde"
      },
      "execution_count": null,
      "outputs": [
        {
          "output_type": "stream",
          "name": "stdout",
          "text": [
            "enter text: how to count the number of times a character is repeated in a string\n",
            "enter character: e\n",
            "7\n"
          ]
        }
      ]
    },
    {
      "cell_type": "code",
      "source": [
        "a = 'apple'\n",
        "b = 'banana'\n",
        "c = b\n",
        "b = a\n",
        "a = c\n",
        "print(a)\n",
        "print(b)"
      ],
      "metadata": {
        "colab": {
          "base_uri": "https://localhost:8080/"
        },
        "id": "ClwmR6z9e733",
        "outputId": "98d427f8-bf40-42e9-d674-183f3db72c45"
      },
      "execution_count": null,
      "outputs": [
        {
          "output_type": "stream",
          "name": "stdout",
          "text": [
            "banana\n",
            "apple\n"
          ]
        }
      ]
    },
    {
      "cell_type": "code",
      "source": [
        "x = 'hello'\n",
        "y = 'bye'\n",
        "z = y\n",
        "y = x\n",
        "x = z\n",
        "print(x)\n",
        "print(y)"
      ],
      "metadata": {
        "colab": {
          "base_uri": "https://localhost:8080/"
        },
        "id": "WHlI3MFthpMS",
        "outputId": "8bfb9d4a-5960-4c44-898a-590a43e4b850"
      },
      "execution_count": null,
      "outputs": [
        {
          "output_type": "stream",
          "name": "stdout",
          "text": [
            "bye\n",
            "hello\n"
          ]
        }
      ]
    },
    {
      "cell_type": "code",
      "source": [
        "B = 89\n",
        "C = 98\n",
        "A = C\n",
        "C = B\n",
        "B = A\n",
        "print(B)\n",
        "print(C)"
      ],
      "metadata": {
        "colab": {
          "base_uri": "https://localhost:8080/"
        },
        "id": "9wqaNuUjiA-d",
        "outputId": "87d0f888-a434-4c65-f57c-64bc2a154650"
      },
      "execution_count": null,
      "outputs": [
        {
          "output_type": "stream",
          "name": "stdout",
          "text": [
            "98\n",
            "89\n"
          ]
        }
      ]
    },
    {
      "cell_type": "code",
      "source": [
        "a = int(\"5\") / int(2.7)\n",
        "print(type(a))"
      ],
      "metadata": {
        "colab": {
          "base_uri": "https://localhost:8080/"
        },
        "id": "amPW1T0ESVsL",
        "outputId": "3c994674-acef-420e-c82f-48a5cdccb47c"
      },
      "execution_count": null,
      "outputs": [
        {
          "output_type": "stream",
          "name": "stdout",
          "text": [
            "<class 'float'>\n"
          ]
        }
      ]
    },
    {
      "cell_type": "code",
      "source": [
        "# get a random item from a list\n",
        "import random\n",
        "animals = ['panda','fox','rabbit','wolf','cat','ferret']\n",
        "print(random.choice(animals))\n"
      ],
      "metadata": {
        "id": "vq8vusfDSwbo",
        "colab": {
          "base_uri": "https://localhost:8080/"
        },
        "outputId": "20c12ba8-d5cd-4802-f89a-949d41ee17f0"
      },
      "execution_count": null,
      "outputs": [
        {
          "output_type": "stream",
          "name": "stdout",
          "text": [
            "panda\n"
          ]
        }
      ]
    },
    {
      "cell_type": "code",
      "source": [
        "# another way to get random item from list\n",
        "ani = random.randint(0,5)\n",
        "print(animals[ani])\n"
      ],
      "metadata": {
        "colab": {
          "base_uri": "https://localhost:8080/"
        },
        "id": "GjYO1lMGMXHm",
        "outputId": "303d5a4a-fcbd-457a-935f-bb64c8f6296c"
      },
      "execution_count": null,
      "outputs": [
        {
          "output_type": "stream",
          "name": "stdout",
          "text": [
            "panda\n"
          ]
        }
      ]
    },
    {
      "cell_type": "code",
      "source": [
        "# max score\n",
        "score = [123,145,190,79,99,109,103,142,157,178,199,124,56,194,155,181,133,157]\n",
        "max_score = 0\n",
        "for grade in score:\n",
        "  if grade > max_score:\n",
        "    max_score = grade\n",
        "\n",
        "print(max_score)"
      ],
      "metadata": {
        "colab": {
          "base_uri": "https://localhost:8080/"
        },
        "id": "Hor_EacuFh2u",
        "outputId": "29a96906-e497-4c39-e5d5-df1f4ddd3a81"
      },
      "execution_count": null,
      "outputs": [
        {
          "output_type": "stream",
          "name": "stdout",
          "text": [
            "199\n"
          ]
        }
      ]
    },
    {
      "cell_type": "code",
      "source": [
        "# sum of all numbers till 100\n",
        "sum = 0\n",
        "for total in range(1,101):\n",
        "  sum = total+sum\n",
        "print(sum)"
      ],
      "metadata": {
        "colab": {
          "base_uri": "https://localhost:8080/"
        },
        "id": "xulhxPWuD7sc",
        "outputId": "82dfd3f5-6cba-4abd-9e05-0b6a9792b9a8"
      },
      "execution_count": null,
      "outputs": [
        {
          "output_type": "stream",
          "name": "stdout",
          "text": [
            "5050\n"
          ]
        }
      ]
    },
    {
      "cell_type": "code",
      "source": [
        "# fizzbuzz\n",
        "for num in range(1,101):\n",
        "  if num%3 == 0 and num%5 == 0 :\n",
        "    print('FizzBuzz')\n",
        "  elif num%3 == 0:\n",
        "    print('Fizz')\n",
        "  elif num%5 ==0:\n",
        "    print('Buzz')\n",
        "  else:\n",
        "    print(num)"
      ],
      "metadata": {
        "id": "I99bJMwbIIEM",
        "colab": {
          "base_uri": "https://localhost:8080/"
        },
        "outputId": "9d171dea-5c08-48f3-93bb-a00a2fdfce45"
      },
      "execution_count": null,
      "outputs": [
        {
          "output_type": "stream",
          "name": "stdout",
          "text": [
            "1\n",
            "2\n",
            "Fizz\n",
            "4\n",
            "Buzz\n",
            "Fizz\n",
            "7\n",
            "8\n",
            "Fizz\n",
            "Buzz\n",
            "11\n",
            "Fizz\n",
            "13\n",
            "14\n",
            "FizzBuzz\n",
            "16\n",
            "17\n",
            "Fizz\n",
            "19\n",
            "Buzz\n",
            "Fizz\n",
            "22\n",
            "23\n",
            "Fizz\n",
            "Buzz\n",
            "26\n",
            "Fizz\n",
            "28\n",
            "29\n",
            "FizzBuzz\n",
            "31\n",
            "32\n",
            "Fizz\n",
            "34\n",
            "Buzz\n",
            "Fizz\n",
            "37\n",
            "38\n",
            "Fizz\n",
            "Buzz\n",
            "41\n",
            "Fizz\n",
            "43\n",
            "44\n",
            "FizzBuzz\n",
            "46\n",
            "47\n",
            "Fizz\n",
            "49\n",
            "Buzz\n",
            "Fizz\n",
            "52\n",
            "53\n",
            "Fizz\n",
            "Buzz\n",
            "56\n",
            "Fizz\n",
            "58\n",
            "59\n",
            "FizzBuzz\n",
            "61\n",
            "62\n",
            "Fizz\n",
            "64\n",
            "Buzz\n",
            "Fizz\n",
            "67\n",
            "68\n",
            "Fizz\n",
            "Buzz\n",
            "71\n",
            "Fizz\n",
            "73\n",
            "74\n",
            "FizzBuzz\n",
            "76\n",
            "77\n",
            "Fizz\n",
            "79\n",
            "Buzz\n",
            "Fizz\n",
            "82\n",
            "83\n",
            "Fizz\n",
            "Buzz\n",
            "86\n",
            "Fizz\n",
            "88\n",
            "89\n",
            "FizzBuzz\n",
            "91\n",
            "92\n",
            "Fizz\n",
            "94\n",
            "Buzz\n",
            "Fizz\n",
            "97\n",
            "98\n",
            "Fizz\n",
            "Buzz\n"
          ]
        }
      ]
    },
    {
      "cell_type": "code",
      "source": [
        "# Project 1: Band name generator\n",
        "city = input('name of city you are from: ')\n",
        "pet = input('name of you pet: ')\n",
        "print(f'the band name is {city} {pet}')"
      ],
      "metadata": {
        "colab": {
          "base_uri": "https://localhost:8080/"
        },
        "id": "V_Gtzz8LilY-",
        "outputId": "fbb7c221-6fdb-4605-dcaf-27488b5cce8c"
      },
      "execution_count": null,
      "outputs": [
        {
          "output_type": "stream",
          "name": "stdout",
          "text": [
            "name of city you are from: Hyderabad\n",
            "name of you pet: Cherry \n",
            "the band name is Hyderabad Cherry \n"
          ]
        }
      ]
    },
    {
      "cell_type": "code",
      "source": [
        "#Project -2: Tip calculator\n",
        "x = float(input('What was the total bill? ₹'))\n",
        "y = float(input('What precentage of tip would you like to pay? '))\n",
        "z = int(input('Bill to be split between how many people? '))\n",
        "tip = ((y/100)*x)+x\n",
        "print(f'your total bill along with the tip is {round(tip,2)}')"
      ],
      "metadata": {
        "colab": {
          "base_uri": "https://localhost:8080/"
        },
        "id": "-nkVZ1xOUYXx",
        "outputId": "2f0d319a-68cd-43e0-a607-83a4af56a50e"
      },
      "execution_count": null,
      "outputs": [
        {
          "output_type": "stream",
          "name": "stdout",
          "text": [
            "What was the total bill? ₹100\n",
            "What precentage of tip would you like to pay? 10\n",
            "Bill to be split between how many people? 5\n",
            "your total bill along with the tip is 110.0\n"
          ]
        }
      ]
    },
    {
      "cell_type": "code",
      "source": [
        "# Project-3: pizza bill (not the actual project.)\n",
        "pizza = input('pizza size: l/m/s:  ')\n",
        "custom = input('customize pizza: y/n ')\n",
        "bill = 100\n",
        "if custom == 'y' or custom =='Y':\n",
        "  if pizza =='l' or pizza =='L':\n",
        "    bill = bill + 150\n",
        "    print(f'your total is {bill}')\n",
        "  elif pizza =='m' or pizza =='M':\n",
        "    bill = bill + 100\n",
        "    print(f'your total is {bill}')\n",
        "  else:\n",
        "    bill = bill+ 50\n",
        "    print(f'your total is {bill}')\n",
        "  toppings = input(' cutom toppings? y/n')\n",
        "  if toppings == 'y' or toppings=='Y':\n",
        "    print('you can choose your toppings')\n",
        "  top_1= input('olives: y/n ')\n",
        "  if top_1 =='y' or top_1 =='Y':\n",
        "    bill = bill + 15\n",
        "    print(f'your total is {bill}')\n",
        "  else:\n",
        "    print(f'your bill is {bill}')\n",
        "  top_2 = input('mushrooms: y/n ')\n",
        "  if top_2 =='y' or top_2 =='Y':\n",
        "    bill = bill + 20\n",
        "    print(f'your total is {bill}')\n",
        "  else:\n",
        "    print(f'your bill is {bill}')\n",
        "  top_3 = input('peppers: y/n ')\n",
        "  if top_3 =='y' or top_3 =='Y':\n",
        "    bill = bill + 25\n",
        "    print(f'your total is {bill}')\n",
        "  else :\n",
        "    print(f'your bill is {bill}')\n",
        "  cheese = input('do you want extra cheese: y/n')\n",
        "  if cheese == 'y' or cheese == 'Y':\n",
        "    bill+ 45\n",
        "    print(f'your total is {bill}')\n",
        "  else:\n",
        "    print(f'your bill is {bill}')\n",
        "  take_out = input('do you want take out: y/n')\n",
        "  if take_out == 'y' or take_out == 'Y':\n",
        "    bill = bill + 50\n",
        "    print(f'your total bill is {bill}')\n",
        "  else:\n",
        "    print(f'your bill is {bill}')\n",
        "else:\n",
        "  print(f'your bill is {bill}')"
      ],
      "metadata": {
        "colab": {
          "base_uri": "https://localhost:8080/"
        },
        "id": "7sKmNUbj8M2m",
        "outputId": "3ba30192-856f-4194-9e98-b914fba22fb0"
      },
      "execution_count": null,
      "outputs": [
        {
          "output_type": "stream",
          "name": "stdout",
          "text": [
            "pizza size: l/m/s:  L\n",
            "customize pizza: y/n Y\n",
            "your total is 250\n",
            " cutom toppings? y/nY\n",
            "you can choose your toppings\n",
            "olives: y/n Y\n",
            "your total is 265\n",
            "mushrooms: y/n M\n",
            "your bill is 265\n",
            "peppers: y/n Y\n",
            "your total is 290\n",
            "do you want extra cheese: y/nY\n",
            "your total is 290\n",
            "do you want take out: y/nY\n",
            "your total bill is 340\n"
          ]
        }
      ]
    },
    {
      "cell_type": "code",
      "source": [
        "# Project-4: Rock-Paper-Scissors\n",
        "import random\n",
        "game = ['rock','paper','scissors']\n",
        "comp = random.randint(0,2)\n",
        "c_1 = game[comp]\n",
        "player = int(input('enter a number from 0 to 2: '))\n",
        "c_2 = game[player]\n",
        "if player == comp:\n",
        "  print(f'player choose {c_2} and computer choose {c_1}.DRAW!!!')\n",
        "elif player == 1 and comp == 0:\n",
        "  print(f'player choose {c_2} and computer choose {c_1}.Player Wins!!')\n",
        "elif player == 2 and comp == 1:\n",
        "  print(f'player choose {c_2} and computer choose {c_1}.Player Wins!!')\n",
        "elif player == 0 and comp == 2:\n",
        "  print(f'player choose {c_2} and computer choose {c_1}.Player Wins!!')\n",
        "else:\n",
        "  print(f'player choose {c_2} and computer choose {c_1}.Computer Wins!!')\n",
        "\n",
        "\n"
      ],
      "metadata": {
        "colab": {
          "base_uri": "https://localhost:8080/"
        },
        "id": "zs9PqfG7M0Jn",
        "outputId": "04d4cbd1-4eae-4208-80e3-f694c29de341"
      },
      "execution_count": null,
      "outputs": [
        {
          "output_type": "stream",
          "name": "stdout",
          "text": [
            "enter a number from 0 to 2: 1\n",
            "player choose paper and computer choose scissors.Computer Wins!!\n"
          ]
        }
      ]
    },
    {
      "cell_type": "code",
      "source": [
        "# Project-5: Password generator\n",
        "import random\n",
        "alphabets =['a','b','c','d','e','f','g','h','i','j','k','l','m','n','o','p','q','r','s','t','u','v','w','x','y','z','A','B','C','D','E','F','G','H','I','J','K','L','M','N','O','P','Q','R','S','T','U','V','W','X','Y','Z']\n",
        "numbers = ['0','1','2','3','4','5','6','7','8','9','0']\n",
        "symbols = ['#','%','&','*','€','$','@','!']\n",
        "letters = int(input('how many letters in your password? '))\n",
        "num = int(input('how many numbers in your password? '))\n",
        "sym = int(input('how many symbols in your password? '))\n",
        "password = []\n",
        "for let in range(0,letters):\n",
        "  randlet = random.choice(alphabets)\n",
        "  password.append(randlet)\n",
        "\n",
        "for nums in range(0,num):\n",
        "  randnum = random.choice(numbers)\n",
        "  password.append(randnum)\n",
        "\n",
        "for syms in range(0,sym):\n",
        "  randsym = random.choice(symbols)\n",
        "  password.append(randsym)\n",
        "\n",
        "random.shuffle(password)\n",
        "\n",
        "pass_1 = \"\"\n",
        "for char in password:\n",
        "  pass_1 = pass_1 + char\n",
        "print(pass_1)"
      ],
      "metadata": {
        "id": "6auh34-eBELU",
        "colab": {
          "base_uri": "https://localhost:8080/"
        },
        "outputId": "8e9c5e29-875d-4e20-d69e-8753ad276d6d"
      },
      "execution_count": null,
      "outputs": [
        {
          "output_type": "stream",
          "name": "stdout",
          "text": [
            "how many letters in your password? 4\n",
            "how many numbers in your password? 5\n",
            "how many symbols in your password? 2\n",
            "A5H90*E14*i\n"
          ]
        }
      ]
    },
    {
      "cell_type": "code",
      "source": [
        "\n",
        "# Project-7: Hangman\n",
        "import random\n",
        "words = ['amalgamate','bauble','clandestine','demonstrate','egregious','flourish','gouge','hurtle','intrigue','jester','keen','laggard','mundane','novel','obtrude','permeate','quagmire','readjustment','subjugate','tenacious','usurp','vacate','waive','xenon','yield','zephyr']\n",
        "lives = 6\n",
        "stages = ['HANGMAN','HANGMA','HANGM','HANG','HAN','HA','H']\n",
        "word = random.choice(words)\n",
        "blank = \" _ \"\n",
        "length = len(word)\n",
        "for blank_num in range(length):\n",
        "  blank += \" _ \"\n",
        "print(blank)\n",
        "# print(word)\n",
        "end = False\n",
        "correct = []\n",
        "while not end :\n",
        "  choice = input('enter your letter: ').lower()\n",
        "\n",
        "  display = \" \"\n",
        "  for letter in word:\n",
        "    if letter == choice:\n",
        "      display += letter\n",
        "      correct.append(choice)\n",
        "    elif letter in correct:\n",
        "      display += letter\n",
        "    else:\n",
        "      display += \" _ \"\n",
        "  print(display)\n",
        "  if choice not in word:\n",
        "    lives -= 1\n",
        "    print(stages[lives])\n",
        "    if lives == 0 :\n",
        "      end = True\n",
        "      print('You were hanged.\\n You Lose!!!')\n",
        "      print(f'the correct word is {word}')\n",
        "  if \" _ \" not in display:\n",
        "    end = True\n",
        "    print('You Win!!!')\n",
        "print('Game Over ')"
      ],
      "metadata": {
        "colab": {
          "base_uri": "https://localhost:8080/"
        },
        "id": "uLIZIRGGjAli",
        "outputId": "eb0f0cde-5856-47d6-ea8c-bd66ff8121b6"
      },
      "execution_count": null,
      "outputs": [
        {
          "output_type": "stream",
          "name": "stdout",
          "text": [
            " _  _  _  _  _ \n",
            "enter your letter: A\n",
            "  _  _  _  _ \n",
            "HA\n",
            "enter your letter: I\n",
            "  _  _  _  _ \n",
            "HAN\n",
            "enter your letter: U\n",
            "  _  _  _  _ \n",
            "HANG\n",
            "enter your letter: B\n",
            "  _  _  _  _ \n",
            "HANGM\n",
            "enter your letter: R\n",
            "  _  _  _  _ \n",
            "HANGMA\n",
            "enter your letter: E\n",
            "  _ ee _ \n",
            "enter your letter: K\n",
            " kee _ \n",
            "enter your letter: N\n",
            " keen\n",
            "You Win!!!\n",
            "Game Over \n"
          ]
        }
      ]
    },
    {
      "cell_type": "code",
      "source": [
        "# encrytion of message\n",
        "def encrypt(original_message=message,shift_amount=shift):\n",
        "  encrypted_message = \" \"\n",
        "  for letter in original_message:\n",
        "    position = alphabets.index(letter) # to get index of letter\n",
        "    shifted_position = position + shift_amount # for getting shifted index\n",
        "    shifted_position = shifted_position % len(alphabets) # for index above 25\n",
        "    encrypted_message += alphabets[shifted_position]\n",
        "  print(f'the encoded message is:\\n{encrypted_message}')"
      ],
      "metadata": {
        "id": "aUI5JD55jo4t"
      },
      "execution_count": 18,
      "outputs": []
    },
    {
      "cell_type": "code",
      "source": [
        "encrypt('b',5)"
      ],
      "metadata": {
        "colab": {
          "base_uri": "https://localhost:8080/"
        },
        "id": "X85aRZXPka8i",
        "outputId": "67c1dcdb-8c84-4ea7-9949-0a1626aa6f22"
      },
      "execution_count": 35,
      "outputs": [
        {
          "output_type": "stream",
          "name": "stdout",
          "text": [
            "the encoded message is:\n",
            " g\n"
          ]
        }
      ]
    },
    {
      "cell_type": "code",
      "source": [
        "# decrypted message\n",
        "def decrypt(original_message=message,shift_amount=shift):\n",
        "  decrypted_message = \" \"\n",
        "  for letter in original_message:\n",
        "    position = alphabets.index(letter)\n",
        "    shifted_position = position - shift_amount\n",
        "    shifted_position = shifted_position % len(alphabets)\n",
        "    decrypted_message += alphabets[shifted_position]\n",
        "  print(f'the decoded message is:\\n{decrypted_message}')\n",
        ""
      ],
      "metadata": {
        "id": "JGqItlRMiSvT"
      },
      "execution_count": 25,
      "outputs": []
    },
    {
      "cell_type": "code",
      "source": [
        "decrypt('g',5)"
      ],
      "metadata": {
        "colab": {
          "base_uri": "https://localhost:8080/"
        },
        "id": "_Mbfr0AEcRIr",
        "outputId": "8f32badd-ef64-4141-8e9c-041fa403b545"
      },
      "execution_count": 36,
      "outputs": [
        {
          "output_type": "stream",
          "name": "stdout",
          "text": [
            "the decoded message is:\n",
            " b\n"
          ]
        }
      ]
    },
    {
      "cell_type": "code",
      "source": [
        "# CEASAR CIPHER\n",
        "alphabets = ['a','b','c','d','e','f','g','h','i','j','k','l','m','n','o','p','q','r','s','t','u','v','w','x','y','z']\n",
        "direction = input('Type \"encode\" to encrypt and \"decode\" to decrypt :\\n').lower()\n",
        "shift = int(input('Enter the shift number: '))\n",
        "message = input('enter your message:\\n').lower()"
      ],
      "metadata": {
        "id": "FbQxRrrufdLz",
        "colab": {
          "base_uri": "https://localhost:8080/"
        },
        "outputId": "c081402d-251f-4f06-ebe3-2181450ad946"
      },
      "execution_count": 42,
      "outputs": [
        {
          "name": "stdout",
          "output_type": "stream",
          "text": [
            "Type \"encode\" to encrypt and \"decode\" to decrypt :\n",
            "B\n",
            "Enter the shift number: 9\n",
            "enter your message:\n",
            "H\n"
          ]
        }
      ]
    },
    {
      "cell_type": "code",
      "source": [
        "def ceasar_cipher(original_message,shift_amount,code):\n",
        "  coded_message = \" \"\n",
        "  if code == 'decode':\n",
        "    shift_amount = shift_amount * -1\n",
        "\n",
        "  for letter in original_message:\n",
        "    if letter not in alphabets:\n",
        "      coded_message+= letter\n",
        "    else:\n",
        "      position = alphabets.index(letter)\n",
        "      shifted_position = position + shift_amount\n",
        "      shifted_position = shifted_position % len(alphabets)\n",
        "      coded_message += alphabets[shifted_position]\n",
        "  print(f'the {code}d message is:\\n{coded_message}')\n",
        "\n",
        "continue_game = True\n",
        "while continue_game:\n",
        "  direction = input('Type \"encode\" to encrypt and \"decode\" to decrypt :\\n').lower()\n",
        "  shift = int(input('Enter the shift number: '))\n",
        "  message = input('enter your message:\\n').lower()\n",
        "\n",
        "  ceasar_cipher(message,shift,direction)\n",
        "  restart = input('To restart type \"yes\". To end type \"no\"').lower()\n",
        "  if restart == \"no\":\n",
        "    continue_game = False\n",
        "    print('The End')"
      ],
      "metadata": {
        "colab": {
          "base_uri": "https://localhost:8080/"
        },
        "id": "nrXQgi73oVES",
        "outputId": "f0df7a1d-d7c4-4bd1-cad6-1d4268faf7c1"
      },
      "execution_count": 47,
      "outputs": [
        {
          "output_type": "stream",
          "name": "stdout",
          "text": [
            "Type \"encode\" to encrypt and \"decode\" to decrypt :\n",
            "Encode\n",
            "Enter the shift number: 3\n",
            "enter your message:\n",
            "Z\n",
            "the encoded message is:\n",
            " c\n",
            "To restart type \"yes\". To end type \"no\"Yes\n",
            "Type \"encode\" to encrypt and \"decode\" to decrypt :\n",
            "Decode\n",
            "Enter the shift number: 3\n",
            "enter your message:\n",
            "C\n",
            "the decoded message is:\n",
            " z\n",
            "To restart type \"yes\". To end type \"no\"No\n",
            "The End\n"
          ]
        }
      ]
    }
  ]
}
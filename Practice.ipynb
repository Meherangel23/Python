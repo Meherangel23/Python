{
  "nbformat": 4,
  "nbformat_minor": 0,
  "metadata": {
    "colab": {
      "provenance": [],
      "authorship_tag": "ABX9TyMvpoL71jFeEtrnV2sRTOA9",
      "include_colab_link": true
    },
    "kernelspec": {
      "name": "python3",
      "display_name": "Python 3"
    },
    "language_info": {
      "name": "python"
    }
  },
  "cells": [
    {
      "cell_type": "markdown",
      "metadata": {
        "id": "view-in-github",
        "colab_type": "text"
      },
      "source": [
        "<a href=\"https://colab.research.google.com/github/Meherangel23/Python/blob/main/Practice.ipynb\" target=\"_parent\"><img src=\"https://colab.research.google.com/assets/colab-badge.svg\" alt=\"Open In Colab\"/></a>"
      ]
    },
    {
      "cell_type": "code",
      "execution_count": 2,
      "metadata": {
        "id": "2YcwUQ0y6Ptq",
        "colab": {
          "base_uri": "https://localhost:8080/"
        },
        "outputId": "337d896c-c245-4021-9619-917fe2033e7d"
      },
      "outputs": [
        {
          "output_type": "stream",
          "name": "stdout",
          "text": [
            "['lily', 'lotus', 'lavender', 'rose']\n"
          ]
        }
      ],
      "source": [
        "# Q-1 exchange the elements of a list\n",
        "flowers = ['rose','lotus','lavender','lily']\n",
        "flowers[0],flowers[3] = flowers[3],flowers[0]\n",
        "print(flowers)"
      ]
    },
    {
      "cell_type": "code",
      "source": [
        "# print multiplication\n",
        "n_1 = 20\n",
        "n_2 = 30\n",
        "product = n_1 * n_2\n",
        "print(product)"
      ],
      "metadata": {
        "colab": {
          "base_uri": "https://localhost:8080/"
        },
        "id": "NYyFGQDmBdd2",
        "outputId": "9a78b092-040f-439c-9850-b9699cc8a58c"
      },
      "execution_count": 4,
      "outputs": [
        {
          "output_type": "stream",
          "name": "stdout",
          "text": [
            "600\n"
          ]
        }
      ]
    },
    {
      "cell_type": "code",
      "source": [
        "# sum of prev no. in range\n",
        "num = 0\n",
        "for x in range(1,11):\n",
        "  new = num + x\n",
        "  num = new\n",
        "  print(f'Current number is: {x}, Sum of numbers is: {new}')"
      ],
      "metadata": {
        "colab": {
          "base_uri": "https://localhost:8080/"
        },
        "id": "SjH3a0WdCSJe",
        "outputId": "af781b48-af82-4616-dcaa-d0b04dbd10b4"
      },
      "execution_count": 8,
      "outputs": [
        {
          "output_type": "stream",
          "name": "stdout",
          "text": [
            "Current number is: 1, Sum of numbers is: 1\n",
            "Current number is: 2, Sum of numbers is: 3\n",
            "Current number is: 3, Sum of numbers is: 6\n",
            "Current number is: 4, Sum of numbers is: 10\n",
            "Current number is: 5, Sum of numbers is: 15\n",
            "Current number is: 6, Sum of numbers is: 21\n",
            "Current number is: 7, Sum of numbers is: 28\n",
            "Current number is: 8, Sum of numbers is: 36\n",
            "Current number is: 9, Sum of numbers is: 45\n",
            "Current number is: 10, Sum of numbers is: 55\n"
          ]
        }
      ]
    },
    {
      "cell_type": "code",
      "source": [
        "# even letters\n",
        "word = ['pynative']\n",
        "for letter in word:\n",
        "  for l in range(len(letter)):\n",
        "    if l%2 ==0:\n",
        "      print(letter[l])"
      ],
      "metadata": {
        "colab": {
          "base_uri": "https://localhost:8080/"
        },
        "id": "ZEMt-suWDxb4",
        "outputId": "d641d7aa-257d-4057-9486-26c0868b2a0f"
      },
      "execution_count": 14,
      "outputs": [
        {
          "output_type": "stream",
          "name": "stdout",
          "text": [
            "p\n",
            "n\n",
            "t\n",
            "v\n"
          ]
        }
      ]
    },
    {
      "cell_type": "code",
      "source": [
        "# odd letters\n",
        "words = ['Today is Saturday']\n",
        "for letter in words:\n",
        "  for x in range(len(letter)):\n",
        "   if x % 2 != 0:\n",
        "    print('even')\n",
        "   else :\n",
        "    print(letter[x])"
      ],
      "metadata": {
        "colab": {
          "base_uri": "https://localhost:8080/"
        },
        "id": "HKTd6L8KHBxw",
        "outputId": "6dbda2ce-13d9-4239-acbe-bc9acc634cb9"
      },
      "execution_count": 30,
      "outputs": [
        {
          "output_type": "stream",
          "name": "stdout",
          "text": [
            "T\n",
            "even\n",
            "d\n",
            "even\n",
            "y\n",
            "even\n",
            "i\n",
            "even\n",
            " \n",
            "even\n",
            "a\n",
            "even\n",
            "u\n",
            "even\n",
            "d\n",
            "even\n",
            "y\n"
          ]
        }
      ]
    },
    {
      "cell_type": "code",
      "source": [
        "# removing characters from a string\n",
        "def remove(word,x):\n",
        "  y = word[x:]\n",
        "  return(y)\n",
        ""
      ],
      "metadata": {
        "id": "nbapttojZ7od"
      },
      "execution_count": 6,
      "outputs": []
    },
    {
      "cell_type": "code",
      "source": [
        "remove('pebbles',3)"
      ],
      "metadata": {
        "colab": {
          "base_uri": "https://localhost:8080/",
          "height": 36
        },
        "id": "oadlFpDNa1Up",
        "outputId": "e32b0090-480b-466e-9e21-a298a8365d63"
      },
      "execution_count": 9,
      "outputs": [
        {
          "output_type": "execute_result",
          "data": {
            "text/plain": [
              "'bles'"
            ],
            "application/vnd.google.colaboratory.intrinsic+json": {
              "type": "string"
            }
          },
          "metadata": {},
          "execution_count": 9
        }
      ]
    },
    {
      "cell_type": "code",
      "source": [
        "# func that returns true for same 1st and last val\n",
        "def same(num):\n",
        "  first = num[0]\n",
        "  second = num[-1]\n",
        "  if first == second:\n",
        "    return True\n",
        "  else :\n",
        "    print('not same')"
      ],
      "metadata": {
        "id": "cIq4YHuZbMyD"
      },
      "execution_count": 10,
      "outputs": []
    },
    {
      "cell_type": "code",
      "source": [
        "num_1 = [10,20,30,40,45,50,10]\n",
        "same(num_1)"
      ],
      "metadata": {
        "colab": {
          "base_uri": "https://localhost:8080/"
        },
        "id": "Cye2J9m5bvSr",
        "outputId": "083a7438-9c9e-4d46-b114-337faeb09c7d"
      },
      "execution_count": 12,
      "outputs": [
        {
          "output_type": "execute_result",
          "data": {
            "text/plain": [
              "True"
            ]
          },
          "metadata": {},
          "execution_count": 12
        }
      ]
    },
    {
      "cell_type": "code",
      "source": [
        "num_2 = [12,23,34,45,56,67,78,89,91]\n",
        "same(num_2)"
      ],
      "metadata": {
        "colab": {
          "base_uri": "https://localhost:8080/"
        },
        "id": "dhoVyZwQb4ax",
        "outputId": "748becdc-9cad-4fad-fdd2-aaa76f4cc54c"
      },
      "execution_count": 14,
      "outputs": [
        {
          "output_type": "stream",
          "name": "stdout",
          "text": [
            "not same\n"
          ]
        }
      ]
    },
    {
      "cell_type": "code",
      "source": [
        "# numbers divisible by 5\n",
        "def multiples(num):\n",
        "  for x in num:\n",
        "    if x%5 == 0:\n",
        "      print(x)\n",
        ""
      ],
      "metadata": {
        "id": "zj8dMWMecIou"
      },
      "execution_count": 21,
      "outputs": []
    },
    {
      "cell_type": "code",
      "source": [
        "numl= [2,5,56,50,45,35,67,78,90,20]\n",
        "multiples(numl)"
      ],
      "metadata": {
        "colab": {
          "base_uri": "https://localhost:8080/"
        },
        "id": "y1kGa7FOcaVT",
        "outputId": "459f9673-6d76-4115-b73f-f8c7d3ffd6c1"
      },
      "execution_count": 22,
      "outputs": [
        {
          "output_type": "stream",
          "name": "stdout",
          "text": [
            "5\n",
            "50\n",
            "45\n",
            "35\n",
            "90\n",
            "20\n"
          ]
        }
      ]
    },
    {
      "cell_type": "code",
      "source": [
        "# counting the no. of times a word is repeated\n",
        "def count(word):\n",
        "  counted = 0\n",
        "  for x in range(len(word)-1) :\n",
        "    if word[x: x+4] == 'Emma':\n",
        "      counted = counted +1\n",
        "      return counted"
      ],
      "metadata": {
        "id": "O-mafaPyfvJ4"
      },
      "execution_count": 62,
      "outputs": []
    },
    {
      "cell_type": "code",
      "source": [
        "words = \"Emma is good developer. She is a writer\"\n",
        "count(words)"
      ],
      "metadata": {
        "colab": {
          "base_uri": "https://localhost:8080/"
        },
        "id": "xqxmPlXKgr-d",
        "outputId": "26ac2409-e928-42ed-a7e9-be0ee0abbed9"
      },
      "execution_count": 64,
      "outputs": [
        {
          "output_type": "execute_result",
          "data": {
            "text/plain": [
              "1"
            ]
          },
          "metadata": {},
          "execution_count": 64
        }
      ]
    },
    {
      "cell_type": "code",
      "source": [
        "# printing patterns\n",
        "for x in range(1,10):\n",
        "  print('x'* x)"
      ],
      "metadata": {
        "colab": {
          "base_uri": "https://localhost:8080/"
        },
        "id": "oEtm9n5Rike8",
        "outputId": "45b3f9d4-ba74-4654-badb-8442e5d83f6a"
      },
      "execution_count": 74,
      "outputs": [
        {
          "output_type": "stream",
          "name": "stdout",
          "text": [
            "x\n",
            "xx\n",
            "xxx\n",
            "xxxx\n",
            "xxxxx\n",
            "xxxxxx\n",
            "xxxxxxx\n",
            "xxxxxxxx\n",
            "xxxxxxxxx\n"
          ]
        }
      ]
    },
    {
      "cell_type": "code",
      "source": [
        "# create one list from 2 lists such that there are even numbers from one list and odd numbers from another\n",
        "def new_list(l_1,l_2):\n",
        "  list_one=[]\n",
        "  list_two = []\n",
        "  for num in l_1:\n",
        "    if x % 2 != 0:\n",
        "      list_one.append(num)\n",
        "  for val in l_2:\n",
        "    if val % 2 == 0:\n",
        "      list_two.append(val)\n",
        "  list_three = list_one + list_two\n",
        "  print(list_three)"
      ],
      "metadata": {
        "id": "ob5v9tapjxpI"
      },
      "execution_count": 114,
      "outputs": []
    },
    {
      "cell_type": "code",
      "source": [
        "l_1 = [2,4,7,3]\n",
        "l_2 = [1,8,9,2]\n",
        "new_list(l_1,l_2)"
      ],
      "metadata": {
        "colab": {
          "base_uri": "https://localhost:8080/"
        },
        "id": "E5KAhCiCl9OV",
        "outputId": "f70665aa-fa53-4266-8f3b-1667e0253896"
      },
      "execution_count": 117,
      "outputs": [
        {
          "output_type": "stream",
          "name": "stdout",
          "text": [
            "[2, 4, 7, 3, 8, 2]\n"
          ]
        }
      ]
    },
    {
      "cell_type": "code",
      "source": [
        "# multiplcation table from 1 to 10\n",
        "\n",
        "for x in range(1,11):\n",
        "  for y in range(1,11):\n",
        "    z = x*y\n",
        "    print(z,end=' ')\n",
        "    print(\"\\t\")"
      ],
      "metadata": {
        "colab": {
          "base_uri": "https://localhost:8080/"
        },
        "id": "bRGBec4anZiR",
        "outputId": "bcfc3838-7a58-4a41-d751-3e9a02fe7a9c"
      },
      "execution_count": 149,
      "outputs": [
        {
          "output_type": "stream",
          "name": "stdout",
          "text": [
            "1 \t\n",
            "2 \t\n",
            "3 \t\n",
            "4 \t\n",
            "5 \t\n",
            "6 \t\n",
            "7 \t\n",
            "8 \t\n",
            "9 \t\n",
            "10 \t\n",
            "2 \t\n",
            "4 \t\n",
            "6 \t\n",
            "8 \t\n",
            "10 \t\n",
            "12 \t\n",
            "14 \t\n",
            "16 \t\n",
            "18 \t\n",
            "20 \t\n",
            "3 \t\n",
            "6 \t\n",
            "9 \t\n",
            "12 \t\n",
            "15 \t\n",
            "18 \t\n",
            "21 \t\n",
            "24 \t\n",
            "27 \t\n",
            "30 \t\n",
            "4 \t\n",
            "8 \t\n",
            "12 \t\n",
            "16 \t\n",
            "20 \t\n",
            "24 \t\n",
            "28 \t\n",
            "32 \t\n",
            "36 \t\n",
            "40 \t\n",
            "5 \t\n",
            "10 \t\n",
            "15 \t\n",
            "20 \t\n",
            "25 \t\n",
            "30 \t\n",
            "35 \t\n",
            "40 \t\n",
            "45 \t\n",
            "50 \t\n",
            "6 \t\n",
            "12 \t\n",
            "18 \t\n",
            "24 \t\n",
            "30 \t\n",
            "36 \t\n",
            "42 \t\n",
            "48 \t\n",
            "54 \t\n",
            "60 \t\n",
            "7 \t\n",
            "14 \t\n",
            "21 \t\n",
            "28 \t\n",
            "35 \t\n",
            "42 \t\n",
            "49 \t\n",
            "56 \t\n",
            "63 \t\n",
            "70 \t\n",
            "8 \t\n",
            "16 \t\n",
            "24 \t\n",
            "32 \t\n",
            "40 \t\n",
            "48 \t\n",
            "56 \t\n",
            "64 \t\n",
            "72 \t\n",
            "80 \t\n",
            "9 \t\n",
            "18 \t\n",
            "27 \t\n",
            "36 \t\n",
            "45 \t\n",
            "54 \t\n",
            "63 \t\n",
            "72 \t\n",
            "81 \t\n",
            "90 \t\n",
            "10 \t\n",
            "20 \t\n",
            "30 \t\n",
            "40 \t\n",
            "50 \t\n",
            "60 \t\n",
            "70 \t\n",
            "80 \t\n",
            "90 \t\n",
            "100 \t\n"
          ]
        }
      ]
    },
    {
      "cell_type": "code",
      "source": [
        "# convert 2 list into a dictionary\n",
        "num = ['Ten','Twenty','Thrity']\n",
        "value = [10,20,30]\n",
        "dictionary = dict(zip(num,value))\n",
        "print(dictionary)"
      ],
      "metadata": {
        "colab": {
          "base_uri": "https://localhost:8080/"
        },
        "id": "C7TllNtyqwJs",
        "outputId": "060ec207-72e5-4332-b261-1e7a8490b7d2"
      },
      "execution_count": 150,
      "outputs": [
        {
          "output_type": "stream",
          "name": "stdout",
          "text": [
            "{'Ten': 10, 'Twenty': 20, 'Thrity': 30}\n"
          ]
        }
      ]
    },
    {
      "cell_type": "code",
      "source": [
        "# print a value from dictionary\n",
        "d = {'class':{'student':{'name':'Mike','marks':{'physics': 70,'history':80}}}}\n",
        "print(d['class']['student']['marks']['history'])"
      ],
      "metadata": {
        "colab": {
          "base_uri": "https://localhost:8080/"
        },
        "id": "clWqGdBmrgEr",
        "outputId": "b8c3405c-01cc-49fd-fdaf-b4e3645e3a15"
      },
      "execution_count": 155,
      "outputs": [
        {
          "output_type": "stream",
          "name": "stdout",
          "text": [
            "80\n"
          ]
        }
      ]
    },
    {
      "cell_type": "code",
      "source": [
        "# inner function to calculate the addition\n",
        "def add(a,b):\n",
        "  sq= a**2\n",
        "  def add_2(a,b):\n",
        "    return a+b\n",
        "  sum = add_2(sq,b)\n",
        "  return sum + 5\n"
      ],
      "metadata": {
        "id": "NpOh9IpfsrfI"
      },
      "execution_count": 164,
      "outputs": []
    },
    {
      "cell_type": "code",
      "source": [
        "print(add(5,10))"
      ],
      "metadata": {
        "colab": {
          "base_uri": "https://localhost:8080/"
        },
        "id": "obiSAWQCxJZJ",
        "outputId": "cff9b781-f5e9-43eb-c906-194cf7bb33ef"
      },
      "execution_count": 165,
      "outputs": [
        {
          "output_type": "stream",
          "name": "stdout",
          "text": [
            "40\n"
          ]
        }
      ]
    },
    {
      "cell_type": "code",
      "source": [
        "# inheritance\n",
        "class vehicle:\n",
        "  def __init__(self,name,max_speed,milage):\n",
        "    self.name = name\n",
        "    self.max_speed = max_speed\n",
        "    self.milage = milage\n",
        ""
      ],
      "metadata": {
        "id": "QBhBDtFqyHnK"
      },
      "execution_count": 170,
      "outputs": []
    },
    {
      "cell_type": "code",
      "source": [
        "class bus(vehicle):\n",
        "  def __init__(self,name,max_speed,milage):\n",
        "    vehicle.__init__(self,name,max_speed,milage)\n",
        "    print(f'{self.name} moves with a speed of {self.max_speed}m/s and has milage {self.milage}')\n",
        ""
      ],
      "metadata": {
        "id": "fpYNL6F2zsK-"
      },
      "execution_count": 182,
      "outputs": []
    },
    {
      "cell_type": "code",
      "source": [
        "type = bus('School Volvo',180,12)"
      ],
      "metadata": {
        "colab": {
          "base_uri": "https://localhost:8080/"
        },
        "id": "n1zqOEah1QqX",
        "outputId": "1e69b056-de63-4ae6-d3a5-80a2db0af975"
      },
      "execution_count": 183,
      "outputs": [
        {
          "output_type": "stream",
          "name": "stdout",
          "text": [
            "School Volvo moves with a speed of 180m/s and has milage 12\n"
          ]
        }
      ]
    },
    {
      "cell_type": "code",
      "source": [
        "type.name"
      ],
      "metadata": {
        "colab": {
          "base_uri": "https://localhost:8080/",
          "height": 36
        },
        "id": "es6xUOSG2ILl",
        "outputId": "e1f6461b-0bc4-466e-e378-0e5bd88e304f"
      },
      "execution_count": 181,
      "outputs": [
        {
          "output_type": "execute_result",
          "data": {
            "text/plain": [
              "'School Volvo'"
            ],
            "application/vnd.google.colaboratory.intrinsic+json": {
              "type": "string"
            }
          },
          "metadata": {},
          "execution_count": 181
        }
      ]
    },
    {
      "cell_type": "code",
      "source": [],
      "metadata": {
        "id": "IE0DsnnJ2LEV"
      },
      "execution_count": null,
      "outputs": []
    }
  ]
}
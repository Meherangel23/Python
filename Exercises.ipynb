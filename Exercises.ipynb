{
  "cells": [
    {
      "cell_type": "markdown",
      "metadata": {
        "id": "view-in-github",
        "colab_type": "text"
      },
      "source": [
        "<a href=\"https://colab.research.google.com/github/Meherangel23/Python/blob/main/Exercises.ipynb\" target=\"_parent\"><img src=\"https://colab.research.google.com/assets/colab-badge.svg\" alt=\"Open In Colab\"/></a>"
      ]
    },
    {
      "cell_type": "code",
      "execution_count": null,
      "metadata": {
        "colab": {
          "base_uri": "https://localhost:8080/"
        },
        "id": "X-8ux6yrf2zz",
        "outputId": "22d84c9c-474c-460c-d52a-76339e18a13d"
      },
      "outputs": [
        {
          "name": "stdout",
          "output_type": "stream",
          "text": [
            "44\n"
          ]
        }
      ],
      "source": [
        "0print(4*(6+5))"
      ]
    },
    {
      "cell_type": "code",
      "source": [],
      "metadata": {
        "id": "5tD0UDaUbydr"
      },
      "execution_count": null,
      "outputs": []
    },
    {
      "cell_type": "code",
      "source": [],
      "metadata": {
        "id": "hcynyB82C0de"
      },
      "execution_count": null,
      "outputs": []
    },
    {
      "cell_type": "code",
      "execution_count": null,
      "metadata": {
        "colab": {
          "base_uri": "https://localhost:8080/"
        },
        "id": "fQ100uNTgKKv",
        "outputId": "ada5e7a3-dd9e-4287-fae8-1bcd584a8bc2"
      },
      "outputs": [
        {
          "data": {
            "text/plain": [
              "34"
            ]
          },
          "execution_count": 3,
          "metadata": {},
          "output_type": "execute_result"
        }
      ],
      "source": [
        "4+6*5"
      ]
    },
    {
      "cell_type": "code",
      "execution_count": null,
      "metadata": {
        "colab": {
          "base_uri": "https://localhost:8080/"
        },
        "id": "dNY8DFF1gQK5",
        "outputId": "af0089f5-4288-4f55-ebe5-349d084ca7f8"
      },
      "outputs": [
        {
          "data": {
            "text/plain": [
              "float"
            ]
          },
          "execution_count": 5,
          "metadata": {},
          "output_type": "execute_result"
        }
      ],
      "source": [
        "type(3+1.5+4)\n"
      ]
    },
    {
      "cell_type": "code",
      "execution_count": null,
      "metadata": {
        "colab": {
          "base_uri": "https://localhost:8080/"
        },
        "id": "LhM4u0ZWgaD-",
        "outputId": "2bf96718-c42c-4e79-9d02-598e0177af3d"
      },
      "outputs": [
        {
          "data": {
            "text/plain": [
              "2.0"
            ]
          },
          "execution_count": 6,
          "metadata": {},
          "output_type": "execute_result"
        }
      ],
      "source": [
        "# square root\n",
        "4**1/2"
      ]
    },
    {
      "cell_type": "code",
      "execution_count": null,
      "metadata": {
        "colab": {
          "base_uri": "https://localhost:8080/"
        },
        "id": "nY0e-6OvggcW",
        "outputId": "fa0daaec-0f9d-43d8-9741-2d520a8e50b3"
      },
      "outputs": [
        {
          "data": {
            "text/plain": [
              "4"
            ]
          },
          "execution_count": 7,
          "metadata": {},
          "output_type": "execute_result"
        }
      ],
      "source": [
        "# square\n",
        "2**2"
      ]
    },
    {
      "cell_type": "code",
      "execution_count": null,
      "metadata": {
        "colab": {
          "base_uri": "https://localhost:8080/",
          "height": 36
        },
        "id": "a8ed0J3ZgoyY",
        "outputId": "aa036818-7c4a-4554-f2ac-5ac9b1d28cc0"
      },
      "outputs": [
        {
          "data": {
            "application/vnd.google.colaboratory.intrinsic+json": {
              "type": "string"
            },
            "text/plain": [
              "'e'"
            ]
          },
          "execution_count": 17,
          "metadata": {},
          "output_type": "execute_result"
        }
      ],
      "source": [
        "\"hello world\"[1]"
      ]
    },
    {
      "cell_type": "code",
      "execution_count": null,
      "metadata": {
        "colab": {
          "base_uri": "https://localhost:8080/",
          "height": 36
        },
        "id": "NIdc1-qUgyDt",
        "outputId": "cafef2e7-383e-4cca-d305-307661b3a073"
      },
      "outputs": [
        {
          "data": {
            "application/vnd.google.colaboratory.intrinsic+json": {
              "type": "string"
            },
            "text/plain": [
              "'dlrow olleh'"
            ]
          },
          "execution_count": 14,
          "metadata": {},
          "output_type": "execute_result"
        }
      ],
      "source": [
        "\"hello world\"[::-1]"
      ]
    },
    {
      "cell_type": "code",
      "execution_count": null,
      "metadata": {
        "colab": {
          "base_uri": "https://localhost:8080/",
          "height": 36
        },
        "id": "IHsOBKhDg9KQ",
        "outputId": "99ca1c4f-9981-4bdc-8597-e7fb4b4e3cfa"
      },
      "outputs": [
        {
          "data": {
            "application/vnd.google.colaboratory.intrinsic+json": {
              "type": "string"
            },
            "text/plain": [
              "'o'"
            ]
          },
          "execution_count": 15,
          "metadata": {},
          "output_type": "execute_result"
        }
      ],
      "source": [
        "#method 1\n",
        "\"hello world\"[4]"
      ]
    },
    {
      "cell_type": "code",
      "execution_count": null,
      "metadata": {
        "colab": {
          "base_uri": "https://localhost:8080/",
          "height": 36
        },
        "id": "dRRNGb0AhZJ1",
        "outputId": "55b5a071-dfac-4e50-fd63-4389f899a857"
      },
      "outputs": [
        {
          "data": {
            "application/vnd.google.colaboratory.intrinsic+json": {
              "type": "string"
            },
            "text/plain": [
              "'o'"
            ]
          },
          "execution_count": 18,
          "metadata": {},
          "output_type": "execute_result"
        }
      ],
      "source": [
        "#method 2\n",
        "\"hello world\"[-4]"
      ]
    },
    {
      "cell_type": "code",
      "execution_count": null,
      "metadata": {
        "colab": {
          "base_uri": "https://localhost:8080/"
        },
        "id": "aarmdaEaiFSv",
        "outputId": "27fef872-e5ab-4355-ec18-c8733bb4094f"
      },
      "outputs": [
        {
          "name": "stdout",
          "output_type": "stream",
          "text": [
            "[0, 0, 0]\n"
          ]
        }
      ],
      "source": [
        "l1= [0,0,0]\n",
        "print(l1)"
      ]
    },
    {
      "cell_type": "markdown",
      "metadata": {
        "id": "FImeYbImiOSx"
      },
      "source": []
    },
    {
      "cell_type": "code",
      "execution_count": null,
      "metadata": {
        "colab": {
          "base_uri": "https://localhost:8080/"
        },
        "id": "_7rksJ28iO24",
        "outputId": "47a4d6dd-0deb-48dd-c1c9-f88407fafb9e"
      },
      "outputs": [
        {
          "name": "stdout",
          "output_type": "stream",
          "text": [
            "[0, 0, 0]\n"
          ]
        }
      ],
      "source": [
        "l2 = [0]*3\n",
        "print(l2)"
      ]
    },
    {
      "cell_type": "code",
      "execution_count": null,
      "metadata": {
        "colab": {
          "base_uri": "https://localhost:8080/"
        },
        "id": "TOF3_ZopjbDW",
        "outputId": "0bd5e600-bc78-4e2b-f45f-fb990193cb62"
      },
      "outputs": [
        {
          "name": "stdout",
          "output_type": "stream",
          "text": [
            "[1, 3, 4, 5, 6]\n"
          ]
        }
      ],
      "source": [
        "l = [5,3,4,6,1]\n",
        "l.sort()\n",
        "print(l)"
      ]
    },
    {
      "cell_type": "code",
      "execution_count": null,
      "metadata": {
        "colab": {
          "base_uri": "https://localhost:8080/"
        },
        "id": "DYailA6VkV80",
        "outputId": "f9087d62-20c1-4e6e-b98c-9c1b7c6c03bd"
      },
      "outputs": [
        {
          "data": {
            "text/plain": [
              "['hello']"
            ]
          },
          "execution_count": 1,
          "metadata": {},
          "output_type": "execute_result"
        }
      ],
      "source": [
        "d = {'k1':[1,2,{'k2':['this is tricky',{'tough':[1,2,['hello']]}]}]}\n",
        "d['k1'][2]['k2'][1]['tough'][2]"
      ]
    },
    {
      "cell_type": "code",
      "execution_count": null,
      "metadata": {
        "colab": {
          "base_uri": "https://localhost:8080/"
        },
        "id": "ZyEAWsh0po7I",
        "outputId": "2690213f-4ed2-4c54-cb40-8bc3a1ec509b"
      },
      "outputs": [
        {
          "name": "stdout",
          "output_type": "stream",
          "text": [
            "start\n",
            "s\n",
            "sentence.\n"
          ]
        }
      ],
      "source": [
        "L =  \" print only the words that start with s in this sentence. \"\n",
        "for letter in L.split():\n",
        "  if letter[0] == 's':\n",
        "   print(letter)"
      ]
    },
    {
      "cell_type": "code",
      "execution_count": null,
      "metadata": {
        "colab": {
          "base_uri": "https://localhost:8080/"
        },
        "id": "CsuBOtvNqN92",
        "outputId": "bc6aa31a-d9b7-4e3f-c356-2666b404a9f7"
      },
      "outputs": [
        {
          "name": "stdout",
          "output_type": "stream",
          "text": [
            "0\n",
            "1\n",
            "2\n",
            "3\n",
            "4\n",
            "5\n",
            "6\n",
            "7\n",
            "8\n",
            "9\n",
            "10\n"
          ]
        }
      ],
      "source": [
        "for val in range(0,11):\n",
        "  print(val)"
      ]
    },
    {
      "cell_type": "code",
      "execution_count": null,
      "metadata": {
        "colab": {
          "base_uri": "https://localhost:8080/"
        },
        "id": "SqS79tFWq2Jk",
        "outputId": "dd2b15f5-4d86-4785-8add-097655523827"
      },
      "outputs": [
        {
          "name": "stdout",
          "output_type": "stream",
          "text": [
            "Fizzbuzz\n",
            "1\n",
            "2\n",
            "Fizz\n",
            "4\n",
            "Buzz\n",
            "Fizz\n",
            "7\n",
            "8\n",
            "Fizz\n",
            "Buzz\n",
            "11\n",
            "Fizz\n",
            "13\n",
            "14\n",
            "Fizzbuzz\n",
            "16\n",
            "17\n",
            "Fizz\n",
            "19\n",
            "Buzz\n",
            "Fizz\n",
            "22\n",
            "23\n",
            "Fizz\n",
            "Buzz\n",
            "26\n",
            "Fizz\n",
            "28\n",
            "29\n",
            "Fizzbuzz\n",
            "31\n",
            "32\n",
            "Fizz\n",
            "34\n",
            "Buzz\n",
            "Fizz\n",
            "37\n",
            "38\n",
            "Fizz\n",
            "Buzz\n",
            "41\n",
            "Fizz\n",
            "43\n",
            "44\n",
            "Fizzbuzz\n",
            "46\n",
            "47\n",
            "Fizz\n",
            "49\n",
            "Buzz\n",
            "Fizz\n",
            "52\n",
            "53\n",
            "Fizz\n",
            "Buzz\n",
            "56\n",
            "Fizz\n",
            "58\n",
            "59\n",
            "Fizzbuzz\n",
            "61\n",
            "62\n",
            "Fizz\n",
            "64\n",
            "Buzz\n",
            "Fizz\n",
            "67\n",
            "68\n",
            "Fizz\n",
            "Buzz\n",
            "71\n",
            "Fizz\n",
            "73\n",
            "74\n",
            "Fizzbuzz\n",
            "76\n",
            "77\n",
            "Fizz\n",
            "79\n",
            "Buzz\n",
            "Fizz\n",
            "82\n",
            "83\n",
            "Fizz\n",
            "Buzz\n",
            "86\n",
            "Fizz\n",
            "88\n",
            "89\n",
            "Fizzbuzz\n",
            "91\n",
            "92\n",
            "Fizz\n",
            "94\n",
            "Buzz\n",
            "Fizz\n",
            "97\n",
            "98\n",
            "Fizz\n",
            "Buzz\n"
          ]
        }
      ],
      "source": [
        "for x in range(0,101):\n",
        "  if x % 3 == 0 and x % 5 == 0 :\n",
        "    print('Fizzbuzz')\n",
        "  elif x % 3 ==0:\n",
        "    print('Fizz')\n",
        "  elif x % 5 == 0:\n",
        "     print('Buzz')\n",
        "  else:\n",
        "    print(x)"
      ]
    },
    {
      "cell_type": "code",
      "execution_count": null,
      "metadata": {
        "colab": {
          "base_uri": "https://localhost:8080/"
        },
        "id": "UqneAPzjt3ML",
        "outputId": "4b67c125-fd51-4632-dd7e-4a1f889a2cd6"
      },
      "outputs": [
        {
          "name": "stdout",
          "output_type": "stream",
          "text": [
            "['c', 'a', 'l', 'o', 't', 'f', 'l', 'o', 'e', 'w', 'i', 't', 's']\n"
          ]
        }
      ],
      "source": [
        "sm = 'create a list of the first letter of every word in this string'\n",
        "ns = [w[0]for w in sm.split()]\n",
        "print(ns)"
      ]
    },
    {
      "cell_type": "code",
      "execution_count": null,
      "metadata": {
        "id": "x2QNKIpDP8Ux"
      },
      "outputs": [],
      "source": [
        "def check_val(a,b):\n",
        "  if a % 2 == 0 and b % 2 == 0:\n",
        "    return min(a,b)\n",
        "  else:\n",
        "    return max(a,b)\n"
      ]
    },
    {
      "cell_type": "code",
      "execution_count": null,
      "metadata": {
        "colab": {
          "base_uri": "https://localhost:8080/"
        },
        "id": "QyX-Ji2lRU7U",
        "outputId": "fcdd3df6-fa59-4be3-93f9-5eb08b59bbd7"
      },
      "outputs": [
        {
          "data": {
            "text/plain": [
              "9"
            ]
          },
          "execution_count": 10,
          "metadata": {},
          "output_type": "execute_result"
        }
      ],
      "source": [
        "check_val(7,9)"
      ]
    },
    {
      "cell_type": "code",
      "execution_count": null,
      "metadata": {
        "colab": {
          "base_uri": "https://localhost:8080/"
        },
        "id": "2aFdl-m6RZDK",
        "outputId": "b433ef4f-6adc-4909-902d-6668573920da"
      },
      "outputs": [
        {
          "data": {
            "text/plain": [
              "0"
            ]
          },
          "execution_count": 11,
          "metadata": {},
          "output_type": "execute_result"
        }
      ],
      "source": [
        "check_val(8,0)"
      ]
    },
    {
      "cell_type": "code",
      "execution_count": null,
      "metadata": {
        "id": "Kcm8kYzPRzjW"
      },
      "outputs": [],
      "source": [
        "def animal_crackers(letter):\n",
        "  words = letter.split()\n",
        "  one = words[0]\n",
        "  two = words[1]\n",
        "  return one[0] == two[0]"
      ]
    },
    {
      "cell_type": "code",
      "execution_count": null,
      "metadata": {
        "colab": {
          "base_uri": "https://localhost:8080/"
        },
        "id": "1z86L8ESThvv",
        "outputId": "88d2f777-6720-448a-86f8-9514d5bf297a"
      },
      "outputs": [
        {
          "data": {
            "text/plain": [
              "True"
            ]
          },
          "execution_count": 35,
          "metadata": {},
          "output_type": "execute_result"
        }
      ],
      "source": [
        "animal_crackers('little llama')"
      ]
    },
    {
      "cell_type": "code",
      "execution_count": null,
      "metadata": {
        "id": "8UGfCNunT1ns"
      },
      "outputs": [],
      "source": [
        "def sum_nums(a,b):\n",
        "  if a + b == 20 or a==20 or b==20:\n",
        "    return True\n",
        "  else:\n",
        "    return False"
      ]
    },
    {
      "cell_type": "code",
      "execution_count": null,
      "metadata": {
        "colab": {
          "base_uri": "https://localhost:8080/"
        },
        "id": "Igx9D65kUgxA",
        "outputId": "f4cc9e72-abe5-498c-d82c-572bf5786c18"
      },
      "outputs": [
        {
          "data": {
            "text/plain": [
              "True"
            ]
          },
          "execution_count": 42,
          "metadata": {},
          "output_type": "execute_result"
        }
      ],
      "source": [
        "sum_nums(20,2)"
      ]
    },
    {
      "cell_type": "code",
      "execution_count": null,
      "metadata": {
        "colab": {
          "base_uri": "https://localhost:8080/"
        },
        "id": "dYU0kVjDUoY4",
        "outputId": "1b783155-6d9c-488d-b720-c44e8c8bf3e5"
      },
      "outputs": [
        {
          "data": {
            "text/plain": [
              "False"
            ]
          },
          "execution_count": 43,
          "metadata": {},
          "output_type": "execute_result"
        }
      ],
      "source": [
        "sum_nums(9,8)"
      ]
    },
    {
      "cell_type": "code",
      "execution_count": null,
      "metadata": {
        "id": "iNZV516iU1T2"
      },
      "outputs": [],
      "source": [
        "def old_macdonald(name):\n",
        "  first = name[:3]\n",
        "  second = name[3:]\n",
        "  one = first.capitalize()\n",
        "  two = second.capitalize()\n",
        "  return one + two"
      ]
    },
    {
      "cell_type": "code",
      "execution_count": null,
      "metadata": {
        "colab": {
          "base_uri": "https://localhost:8080/",
          "height": 36
        },
        "id": "dFtqNYytYL00",
        "outputId": "3c117e2a-39bf-4402-e8df-c2f7b4f2e8f5"
      },
      "outputs": [
        {
          "data": {
            "application/vnd.google.colaboratory.intrinsic+json": {
              "type": "string"
            },
            "text/plain": [
              "'MacDonald'"
            ]
          },
          "execution_count": 46,
          "metadata": {},
          "output_type": "execute_result"
        }
      ],
      "source": [
        "old_macdonald('macdonald')"
      ]
    },
    {
      "cell_type": "code",
      "execution_count": null,
      "metadata": {
        "id": "tLRjrS0RcrmE"
      },
      "outputs": [],
      "source": [
        "# join func joins elements in a list\n",
        "def rev_strings(sentence):\n",
        "  word = sentence.split()\n",
        "  reverse = word[::-1]\n",
        "  revsen = ' '.join(reverse)\n",
        "  return revsen.capitalize()"
      ]
    },
    {
      "cell_type": "code",
      "execution_count": null,
      "metadata": {
        "colab": {
          "base_uri": "https://localhost:8080/",
          "height": 36
        },
        "id": "cPk5GVJgdLgF",
        "outputId": "64ccc12e-2fcc-469f-a390-a0d2f36e64c1"
      },
      "outputs": [
        {
          "data": {
            "application/vnd.google.colaboratory.intrinsic+json": {
              "type": "string"
            },
            "text/plain": [
              "'Home am i'"
            ]
          },
          "execution_count": 54,
          "metadata": {},
          "output_type": "execute_result"
        }
      ],
      "source": [
        "rev_strings('I am home')"
      ]
    },
    {
      "cell_type": "code",
      "execution_count": null,
      "metadata": {
        "id": "2m_jTAuOd6r-"
      },
      "outputs": [],
      "source": [
        "# abs() gives the absolute value of a number\n",
        "def abs_num(x):\n",
        "  return(abs(100-x)<= 10 or abs(200-x)<=10)"
      ]
    },
    {
      "cell_type": "code",
      "execution_count": null,
      "metadata": {
        "colab": {
          "base_uri": "https://localhost:8080/"
        },
        "id": "xD70aFpOe3fp",
        "outputId": "fc1f6b1b-651f-49a5-f808-70aaf001d3ec"
      },
      "outputs": [
        {
          "data": {
            "text/plain": [
              "False"
            ]
          },
          "execution_count": 61,
          "metadata": {},
          "output_type": "execute_result"
        }
      ],
      "source": [
        "abs_num(22)"
      ]
    },
    {
      "cell_type": "code",
      "execution_count": null,
      "metadata": {
        "colab": {
          "base_uri": "https://localhost:8080/"
        },
        "id": "EoBpu6oce_bz",
        "outputId": "15342e7e-32d7-4b99-d6ad-54a4ed45b848"
      },
      "outputs": [
        {
          "data": {
            "text/plain": [
              "True"
            ]
          },
          "execution_count": 67,
          "metadata": {},
          "output_type": "execute_result"
        }
      ],
      "source": [
        "abs_num(90)"
      ]
    },
    {
      "cell_type": "code",
      "execution_count": null,
      "metadata": {
        "colab": {
          "base_uri": "https://localhost:8080/"
        },
        "id": "sI0hD7zUfFe6",
        "outputId": "f65bb180-4b85-4288-c793-adff995281aa"
      },
      "outputs": [
        {
          "data": {
            "text/plain": [
              "True"
            ]
          },
          "execution_count": 66,
          "metadata": {},
          "output_type": "execute_result"
        }
      ],
      "source": [
        "abs_num(109)"
      ]
    },
    {
      "cell_type": "code",
      "execution_count": null,
      "metadata": {
        "colab": {
          "base_uri": "https://localhost:8080/"
        },
        "id": "9yiBKOG3fIvC",
        "outputId": "47143a88-5327-4760-e12d-2188c4bcb1a4"
      },
      "outputs": [
        {
          "data": {
            "text/plain": [
              "True"
            ]
          },
          "execution_count": 68,
          "metadata": {},
          "output_type": "execute_result"
        }
      ],
      "source": [
        "abs_num(209)"
      ]
    },
    {
      "cell_type": "code",
      "execution_count": null,
      "metadata": {
        "colab": {
          "background_save": true
        },
        "id": "GR0mrIxlh-Pq"
      },
      "outputs": [],
      "source": [
        "def rep(*num):\n",
        "  for x in range(0,len(num)-1):\n",
        "    if num[x:x+1] == [3,3]:\n",
        "     return True\n",
        "  else :\n",
        "    return False"
      ]
    },
    {
      "cell_type": "code",
      "execution_count": null,
      "metadata": {
        "id": "TXGY1GG-igat"
      },
      "outputs": [],
      "source": [
        "rep(1,3,3)"
      ]
    },
    {
      "cell_type": "code",
      "source": [
        "# DOUBT[have to get the sum of numbers not including 6 & 9 and numbers b/w them]\n",
        "def num_func(val):\n",
        "  tot = 0\n",
        "  sum = True\n",
        "  for x in val:\n",
        "    while sum :\n",
        "      if x != 6:\n",
        "        tot += x\n",
        "        break\n",
        "      else:\n",
        "        sum = False\n",
        "      while not sum :\n",
        "        if x != 9:\n",
        "            break\n",
        "        else:\n",
        "           sum = True\n",
        "           break\n",
        "    return tot\n"
      ],
      "metadata": {
        "id": "Plbd0B78D7Yz"
      },
      "execution_count": null,
      "outputs": []
    },
    {
      "cell_type": "code",
      "source": [
        "num_func([1,2,6,5,9])"
      ],
      "metadata": {
        "colab": {
          "base_uri": "https://localhost:8080/"
        },
        "id": "YVjpLRitF8ZO",
        "outputId": "a787af7a-96a6-4f01-d0b8-aadc6f1f3fc9"
      },
      "execution_count": null,
      "outputs": [
        {
          "output_type": "execute_result",
          "data": {
            "text/plain": [
              "1"
            ]
          },
          "metadata": {},
          "execution_count": 25
        }
      ]
    },
    {
      "cell_type": "code",
      "source": [
        "def spy_val(num):\n",
        "  val = [0,0,7]\n",
        "  for y in num:\n",
        "    if y == val[0]:\n",
        "      val.pop(0)\n",
        "      len(val) == 0\n",
        "      return 'Correct'\n",
        "    else:\n",
        "      return 'Wrong'\n"
      ],
      "metadata": {
        "id": "DZsMeb_qJbVF"
      },
      "execution_count": null,
      "outputs": []
    },
    {
      "cell_type": "code",
      "source": [
        "spy_val([0,3,2,4,0,3,4,5,0,3,56,7])"
      ],
      "metadata": {
        "colab": {
          "base_uri": "https://localhost:8080/",
          "height": 36
        },
        "id": "hRrDPB1RJ-Gc",
        "outputId": "c4375c34-47d0-4030-f2af-1fad717d498a"
      },
      "execution_count": null,
      "outputs": [
        {
          "output_type": "execute_result",
          "data": {
            "text/plain": [
              "'Correct'"
            ],
            "application/vnd.google.colaboratory.intrinsic+json": {
              "type": "string"
            }
          },
          "metadata": {},
          "execution_count": 11
        }
      ]
    },
    {
      "cell_type": "code",
      "source": [
        "class lines():\n",
        "  def __init__(self,c1,c2):\n",
        "    self.c1 = c1\n",
        "    self.c2 = c2\n",
        "  def dis(self):\n",
        "    x1,y1 = self.c1\n",
        "    x2,y2 = self.c2\n",
        "    return ((x1-x2)**2 + (y1-y2)**2)\n",
        "  def slope(self):\n",
        "    x1,y1 = self.c1\n",
        "    x2,y2 = self.c2\n",
        "    return (y1-y2)/((x1-x2))"
      ],
      "metadata": {
        "id": "oRp8bDOAb1DD"
      },
      "execution_count": null,
      "outputs": []
    },
    {
      "cell_type": "code",
      "source": [
        "c1 = (2,3)\n",
        "c2 = (3,2)"
      ],
      "metadata": {
        "id": "39s6G9RsceM8"
      },
      "execution_count": null,
      "outputs": []
    },
    {
      "cell_type": "code",
      "source": [
        "line = lines(c1,c2)"
      ],
      "metadata": {
        "id": "_y3rGDuSdM1t"
      },
      "execution_count": null,
      "outputs": []
    },
    {
      "cell_type": "code",
      "source": [
        "line.dis()"
      ],
      "metadata": {
        "colab": {
          "base_uri": "https://localhost:8080/"
        },
        "id": "nWeuSpsmdS9N",
        "outputId": "044e1f3a-515c-4b34-8d31-a1666dcf3c13"
      },
      "execution_count": null,
      "outputs": [
        {
          "output_type": "execute_result",
          "data": {
            "text/plain": [
              "2"
            ]
          },
          "metadata": {},
          "execution_count": 8
        }
      ]
    },
    {
      "cell_type": "code",
      "source": [
        "line.slope()"
      ],
      "metadata": {
        "id": "1cruciHWdlkt",
        "outputId": "bd136d12-f884-44b2-8a4b-81a9a7ac54dc",
        "colab": {
          "base_uri": "https://localhost:8080/"
        }
      },
      "execution_count": null,
      "outputs": [
        {
          "output_type": "execute_result",
          "data": {
            "text/plain": [
              "-1.0"
            ]
          },
          "metadata": {},
          "execution_count": 13
        }
      ]
    },
    {
      "cell_type": "code",
      "source": [
        "class acc():\n",
        "  def __init__(self,name,amount):\n",
        "    self.name = name\n",
        "    self.amount = amount\n",
        "  def deposit(self,deposited):\n",
        "    self.amount = self.amount + deposited\n",
        "    print ('The amount is {}'.format(self.amount))\n",
        "  def withdraw(self,withdrawn):\n",
        "    if self.amount >= withdrawn:\n",
        "      self.amount = self.amount - withdrawn\n",
        "      print (f'the amount is {self.amount}')\n",
        "    else:\n",
        "      return 'ERROR'"
      ],
      "metadata": {
        "id": "gEYsOrQNhVVb"
      },
      "execution_count": null,
      "outputs": []
    },
    {
      "cell_type": "code",
      "source": [
        "money = acc('Apple',2000)"
      ],
      "metadata": {
        "id": "Fk1VzN0gjXkv"
      },
      "execution_count": null,
      "outputs": []
    },
    {
      "cell_type": "code",
      "source": [
        "money.deposit(679)"
      ],
      "metadata": {
        "colab": {
          "base_uri": "https://localhost:8080/"
        },
        "id": "4aRv7dpKjejH",
        "outputId": "14904063-8dc3-4075-d3a5-428170b939a1"
      },
      "execution_count": null,
      "outputs": [
        {
          "output_type": "stream",
          "name": "stdout",
          "text": [
            "The amount is 2480\n"
          ]
        }
      ]
    },
    {
      "cell_type": "code",
      "source": [
        "money.withdraw(876)"
      ],
      "metadata": {
        "colab": {
          "base_uri": "https://localhost:8080/"
        },
        "id": "DbWfueC-kxGk",
        "outputId": "fe9d62ab-bcff-4cd3-bcc9-7d7f4b778079"
      },
      "execution_count": null,
      "outputs": [
        {
          "output_type": "stream",
          "name": "stdout",
          "text": [
            "the amount is 728\n"
          ]
        }
      ]
    },
    {
      "cell_type": "code",
      "source": [
        "money.withdraw(3908)"
      ],
      "metadata": {
        "colab": {
          "base_uri": "https://localhost:8080/",
          "height": 181
        },
        "id": "Cv_MxD-JlZCu",
        "outputId": "423dabe6-c459-4c6e-da8d-4661ff69774d"
      },
      "execution_count": null,
      "outputs": [
        {
          "output_type": "error",
          "ename": "NameError",
          "evalue": "name 'money' is not defined",
          "traceback": [
            "\u001b[0;31m---------------------------------------------------------------------------\u001b[0m",
            "\u001b[0;31mNameError\u001b[0m                                 Traceback (most recent call last)",
            "\u001b[0;32m<ipython-input-1-93f733864402>\u001b[0m in \u001b[0;36m<cell line: 1>\u001b[0;34m()\u001b[0m\n\u001b[0;32m----> 1\u001b[0;31m \u001b[0mmoney\u001b[0m\u001b[0;34m.\u001b[0m\u001b[0mwithdraw\u001b[0m\u001b[0;34m(\u001b[0m\u001b[0;36m3908\u001b[0m\u001b[0;34m)\u001b[0m\u001b[0;34m\u001b[0m\u001b[0;34m\u001b[0m\u001b[0m\n\u001b[0m",
            "\u001b[0;31mNameError\u001b[0m: name 'money' is not defined"
          ]
        }
      ]
    },
    {
      "cell_type": "code",
      "source": [
        "#Errors and exceptions\n",
        "try:\n",
        "  for x in ['a','b','c']:\n",
        "    print(x**2)\n",
        "except:\n",
        "    print('ERROR')\n"
      ],
      "metadata": {
        "colab": {
          "base_uri": "https://localhost:8080/"
        },
        "id": "uV5GEQHx7nKl",
        "outputId": "d9a7320a-46a3-494c-f8e6-afb1c488273a"
      },
      "execution_count": null,
      "outputs": [
        {
          "output_type": "stream",
          "name": "stdout",
          "text": [
            "ERROR\n"
          ]
        }
      ]
    },
    {
      "cell_type": "code",
      "source": [
        "x = 5\n",
        "y = 0\n",
        "try:\n",
        "  z = x/y\n",
        "  print(z)\n",
        "except ZeroDivisionError:\n",
        "  print('wrong dividing values')\n",
        "finally :\n",
        "  print('End of calculation')\n"
      ],
      "metadata": {
        "colab": {
          "base_uri": "https://localhost:8080/"
        },
        "id": "hJwIvgve8Iqj",
        "outputId": "dff9f305-5b43-47dd-98f7-3defcbaa0742"
      },
      "execution_count": null,
      "outputs": [
        {
          "output_type": "stream",
          "name": "stdout",
          "text": [
            "wrong dividing values\n",
            "End of calculation\n"
          ]
        }
      ]
    },
    {
      "cell_type": "code",
      "source": [
        "def square():\n",
        "  while True:\n",
        "    try:\n",
        "      n = int(input('Enter a number: '))\n",
        "    except:\n",
        "      print('Wrong input')\n",
        "      continue\n",
        "    else:\n",
        "      print('Square of n is:')\n",
        "      print(n**2)\n",
        "      break\n"
      ],
      "metadata": {
        "id": "ohnB3PMq8u1O"
      },
      "execution_count": null,
      "outputs": []
    },
    {
      "cell_type": "code",
      "source": [
        "square()"
      ],
      "metadata": {
        "colab": {
          "base_uri": "https://localhost:8080/",
          "height": 148
        },
        "id": "tyEQFUPt9E3_",
        "outputId": "6a7a0b87-c070-4654-d6bf-7ba088f4cc5e"
      },
      "execution_count": null,
      "outputs": [
        {
          "output_type": "error",
          "ename": "NameError",
          "evalue": "name 'square' is not defined",
          "traceback": [
            "\u001b[0;31m---------------------------------------------------------------------------\u001b[0m",
            "\u001b[0;31mNameError\u001b[0m                                 Traceback (most recent call last)",
            "\u001b[0;32m<ipython-input-1-67e8141f4182>\u001b[0m in \u001b[0;36m<cell line: 1>\u001b[0;34m()\u001b[0m\n\u001b[0;32m----> 1\u001b[0;31m \u001b[0msquare\u001b[0m\u001b[0;34m(\u001b[0m\u001b[0;34m)\u001b[0m\u001b[0;34m\u001b[0m\u001b[0;34m\u001b[0m\u001b[0m\n\u001b[0m",
            "\u001b[0;31mNameError\u001b[0m: name 'square' is not defined"
          ]
        }
      ]
    },
    {
      "cell_type": "code",
      "source": [
        "# OOP PRACTICE"
      ],
      "metadata": {
        "id": "u6f5gYsGSiJB"
      },
      "execution_count": null,
      "outputs": []
    },
    {
      "cell_type": "code",
      "source": [
        "class Circles():\n",
        "  pi = 3.14\n",
        "  def __init__(self,r):\n",
        "    self.r = r\n",
        "  def perimeter(self):\n",
        "    return 2*self.pi*self.r\n",
        "  def area(self):\n",
        "    return 2*self.pi*self.r**2"
      ],
      "metadata": {
        "id": "bOLxmpNVSuDT"
      },
      "execution_count": null,
      "outputs": []
    },
    {
      "cell_type": "code",
      "source": [
        "calc = Circles(2)"
      ],
      "metadata": {
        "id": "bmWVFzT4TepF"
      },
      "execution_count": null,
      "outputs": []
    },
    {
      "cell_type": "code",
      "source": [
        "calc.perimeter()"
      ],
      "metadata": {
        "colab": {
          "base_uri": "https://localhost:8080/"
        },
        "id": "m3JW14m7UYak",
        "outputId": "8876c07b-df69-4412-a051-753fc5a311cc"
      },
      "execution_count": null,
      "outputs": [
        {
          "output_type": "execute_result",
          "data": {
            "text/plain": [
              "12.56"
            ]
          },
          "metadata": {},
          "execution_count": 16
        }
      ]
    },
    {
      "cell_type": "code",
      "source": [
        "class Person():\n",
        "  def __init__(self,country,name,dob,yob):\n",
        "    self.country = country\n",
        "    self.name = name\n",
        "    self.dob = dob\n",
        "    self.yob = yob\n",
        "  def age(self,year):\n",
        "    return year - self.yob"
      ],
      "metadata": {
        "id": "2H_O4jXvUdbm"
      },
      "execution_count": null,
      "outputs": []
    },
    {
      "cell_type": "code",
      "source": [
        "m = Person('India','Happy',2304,2003)"
      ],
      "metadata": {
        "id": "uzZouVDhZOhm"
      },
      "execution_count": null,
      "outputs": []
    },
    {
      "cell_type": "code",
      "source": [
        "m.age(2024)"
      ],
      "metadata": {
        "colab": {
          "base_uri": "https://localhost:8080/"
        },
        "id": "ROOJYVQRZk5y",
        "outputId": "105c09cd-432a-4375-d469-783f9430fef2"
      },
      "execution_count": null,
      "outputs": [
        {
          "output_type": "execute_result",
          "data": {
            "text/plain": [
              "21"
            ]
          },
          "metadata": {},
          "execution_count": 20
        }
      ]
    },
    {
      "cell_type": "code",
      "source": [
        "m.name"
      ],
      "metadata": {
        "colab": {
          "base_uri": "https://localhost:8080/",
          "height": 36
        },
        "id": "ZQMXTYGMZnoU",
        "outputId": "2c14ba8d-811d-4a97-8eab-ed952d30ce90"
      },
      "execution_count": null,
      "outputs": [
        {
          "output_type": "execute_result",
          "data": {
            "text/plain": [
              "'Happy'"
            ],
            "application/vnd.google.colaboratory.intrinsic+json": {
              "type": "string"
            }
          },
          "metadata": {},
          "execution_count": 21
        }
      ]
    },
    {
      "cell_type": "code",
      "source": [
        "class calc():\n",
        "  def __init__(self,a,b):\n",
        "    self.a = a\n",
        "    self.b = b\n",
        "  def add(self):\n",
        "    return self.a+self.b\n",
        "  def sub(self):\n",
        "    if self.a>self.b:\n",
        "      return self.a-self.b\n",
        "    else:\n",
        "      return self.b-self.a\n",
        "  def mul(self):\n",
        "    return self.a*self.b\n",
        "  def div(self):\n",
        "    if self.a == 0 or self.b ==0 :\n",
        "      return 'Error'\n",
        "    else :\n",
        "      return self.a/self.b\n",
        "  def power(self):\n",
        "    return self.a**self.b\n",
        "  def root(self):\n",
        "    return self.a**(1/self.b)"
      ],
      "metadata": {
        "id": "Mcje_QlsZt55"
      },
      "execution_count": null,
      "outputs": []
    },
    {
      "cell_type": "code",
      "source": [
        "num = calc(9,2)"
      ],
      "metadata": {
        "id": "62AuKATUamXN"
      },
      "execution_count": null,
      "outputs": []
    },
    {
      "cell_type": "code",
      "source": [
        "num.power()"
      ],
      "metadata": {
        "colab": {
          "base_uri": "https://localhost:8080/"
        },
        "id": "XXt2Gt83bMKt",
        "outputId": "f1e3c143-b759-431d-84f2-6b755640918c"
      },
      "execution_count": null,
      "outputs": [
        {
          "output_type": "execute_result",
          "data": {
            "text/plain": [
              "81"
            ]
          },
          "metadata": {},
          "execution_count": 28
        }
      ]
    },
    {
      "cell_type": "code",
      "source": [
        "num.add()"
      ],
      "metadata": {
        "colab": {
          "base_uri": "https://localhost:8080/"
        },
        "id": "AtYyqjMCbOCy",
        "outputId": "1cb68875-1f78-4976-cd91-026ac6695fef"
      },
      "execution_count": null,
      "outputs": [
        {
          "output_type": "execute_result",
          "data": {
            "text/plain": [
              "11"
            ]
          },
          "metadata": {},
          "execution_count": 29
        }
      ]
    },
    {
      "cell_type": "code",
      "source": [
        "num.sub()"
      ],
      "metadata": {
        "colab": {
          "base_uri": "https://localhost:8080/"
        },
        "id": "N8-FvnMhcKY4",
        "outputId": "ee1885d3-7e19-4427-dcf8-39e4b1c0a6a4"
      },
      "execution_count": null,
      "outputs": [
        {
          "output_type": "execute_result",
          "data": {
            "text/plain": [
              "7"
            ]
          },
          "metadata": {},
          "execution_count": 30
        }
      ]
    },
    {
      "cell_type": "code",
      "source": [
        "class Shape():\n",
        "  def __init__(self,shape):\n",
        "    self.shape = shape\n",
        "  def perimeter(self,a,b,c):\n",
        "    if self.shape == 'circle':\n",
        "      return 2*3.14*a\n",
        "    elif self.shape == 'triangle':\n",
        "      return a+b+c\n",
        "    else:\n",
        "      return 2*(a+b)\n",
        "  def area(self,a,b,c):\n",
        "    if self.shape == 'circle':\n",
        "      return 2*3.14*a**2\n",
        "    elif self.shape == 'triangle':\n",
        "      return 0.5*a*b\n",
        "    elif self.shape == 'rectangle':\n",
        "      return a*b\n",
        "    elif self.shape == 'square':\n",
        "      return a**2\n",
        "    else:\n",
        "      return 'Error'"
      ],
      "metadata": {
        "id": "kzGdcl0UcNiQ"
      },
      "execution_count": null,
      "outputs": []
    },
    {
      "cell_type": "code",
      "source": [
        "fig = Shape('square')"
      ],
      "metadata": {
        "id": "-T-gKgSljP5w"
      },
      "execution_count": null,
      "outputs": []
    },
    {
      "cell_type": "code",
      "source": [
        "fig.area(2,5,6)"
      ],
      "metadata": {
        "colab": {
          "base_uri": "https://localhost:8080/"
        },
        "id": "eBvcytzgjUzZ",
        "outputId": "bcec2c3e-29f3-449c-eed1-aad9515a1f52"
      },
      "execution_count": null,
      "outputs": [
        {
          "output_type": "execute_result",
          "data": {
            "text/plain": [
              "4"
            ]
          },
          "metadata": {},
          "execution_count": 37
        }
      ]
    },
    {
      "cell_type": "code",
      "source": [
        "fig.perimeter(8,8,3)"
      ],
      "metadata": {
        "colab": {
          "base_uri": "https://localhost:8080/"
        },
        "id": "_YTy8tRPjcj3",
        "outputId": "01b58daa-406a-4249-e83a-1c86a52f749d"
      },
      "execution_count": null,
      "outputs": [
        {
          "output_type": "execute_result",
          "data": {
            "text/plain": [
              "32"
            ]
          },
          "metadata": {},
          "execution_count": 39
        }
      ]
    },
    {
      "cell_type": "code",
      "source": [],
      "metadata": {
        "id": "m4bu3gpEjlow"
      },
      "execution_count": null,
      "outputs": []
    }
  ],
  "metadata": {
    "colab": {
      "provenance": [],
      "mount_file_id": "1zHYrom-YM2GxpneHhzFKNVBHqysF0_2H",
      "authorship_tag": "ABX9TyOtozIa4OQdF/eUfp2TjQDi",
      "include_colab_link": true
    },
    "kernelspec": {
      "display_name": "Python 3",
      "name": "python3"
    },
    "language_info": {
      "name": "python"
    }
  },
  "nbformat": 4,
  "nbformat_minor": 0
}